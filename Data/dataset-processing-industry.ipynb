{
 "cells": [
  {
   "cell_type": "code",
   "execution_count": 1,
   "metadata": {},
   "outputs": [],
   "source": [
    "import pandas as pd"
   ]
  },
  {
   "cell_type": "code",
   "execution_count": 4,
   "metadata": {},
   "outputs": [
    {
     "name": "stdout",
     "output_type": "stream",
     "text": [
      "\u001b[33mWARNING: Ignoring invalid distribution -ensorflow (/Users/rajatsharma/anaconda3/envs/captionKraftNov25/lib/python3.9/site-packages)\u001b[0m\u001b[33m\n",
      "\u001b[0mCollecting openpyxl\n",
      "  Downloading openpyxl-3.1.5-py2.py3-none-any.whl.metadata (2.5 kB)\n",
      "Collecting et-xmlfile (from openpyxl)\n",
      "  Downloading et_xmlfile-2.0.0-py3-none-any.whl.metadata (2.7 kB)\n",
      "Downloading openpyxl-3.1.5-py2.py3-none-any.whl (250 kB)\n",
      "\u001b[2K   \u001b[90m━━━━━━━━━━━━━━━━━━━━━━━━━━━━━━━━━━━━━━━━\u001b[0m \u001b[32m250.9/250.9 kB\u001b[0m \u001b[31m6.0 MB/s\u001b[0m eta \u001b[36m0:00:00\u001b[0ma \u001b[36m0:00:01\u001b[0m\n",
      "\u001b[?25hDownloading et_xmlfile-2.0.0-py3-none-any.whl (18 kB)\n",
      "\u001b[33mWARNING: Ignoring invalid distribution -ensorflow (/Users/rajatsharma/anaconda3/envs/captionKraftNov25/lib/python3.9/site-packages)\u001b[0m\u001b[33m\n",
      "\u001b[0mInstalling collected packages: et-xmlfile, openpyxl\n",
      "Successfully installed et-xmlfile-2.0.0 openpyxl-3.1.5\n"
     ]
    }
   ],
   "source": [
    "!pip install openpyxl"
   ]
  },
  {
   "cell_type": "code",
   "execution_count": 43,
   "metadata": {},
   "outputs": [
    {
     "name": "stderr",
     "output_type": "stream",
     "text": [
      "/Users/rajatsharma/anaconda3/envs/captionKraftNov25/lib/python3.9/site-packages/openpyxl/worksheet/_reader.py:329: UserWarning: Unknown extension is not supported and will be removed\n",
      "  warn(msg)\n",
      "/Users/rajatsharma/anaconda3/envs/captionKraftNov25/lib/python3.9/site-packages/openpyxl/worksheet/_reader.py:329: UserWarning: Conditional Formatting extension is not supported and will be removed\n",
      "  warn(msg)\n"
     ]
    }
   ],
   "source": [
    "# Load all sheets into a dictionary of DataFrames\n",
    "file_path = \"/Users/rajatsharma/IBM-CarbonSense-powered-by-Watsonx/Data/dataset_carbon.xlsx\"\n",
    "dfs = pd.read_excel(file_path, sheet_name=None)\n",
    "\n",
    "\n"
   ]
  },
  {
   "cell_type": "code",
   "execution_count": 44,
   "metadata": {},
   "outputs": [],
   "source": [
    "ds1 = dfs[\"Idemat2025\"]\n",
    "ds2 = dfs[\"Idemat2025 midpoints\"]\n",
    "ds3 = dfs[\"process energy estimates \"]\n",
    "ds4 = dfs[\"EVR gate to gate\"]\n",
    "ds5 = dfs[\"EVR cradle to gate\"]"
   ]
  },
  {
   "cell_type": "code",
   "execution_count": 45,
   "metadata": {},
   "outputs": [],
   "source": [
    "ds2 = ds2.dropna(axis=1, how='all')"
   ]
  },
  {
   "cell_type": "code",
   "execution_count": 80,
   "metadata": {},
   "outputs": [],
   "source": [
    "#rename .heading to industry\n",
    "ds2 = ds2.rename(columns={\".heading\": \"industry\"})"
   ]
  },
  {
   "cell_type": "code",
   "execution_count": 81,
   "metadata": {},
   "outputs": [
    {
     "name": "stdout",
     "output_type": "stream",
     "text": [
      "Index(['.', 'industry', '..1', '..2', 'Unit', 'Process', 'Total',\n",
      "       'eco-costs of', 'eco-costs of.1', 'eco-costs of.2', 'eco-costs of.3',\n",
      "       'Unnamed: 11', 'Unnamed: 12', 'Unnamed: 13', 'Unnamed: 14', 'Human ',\n",
      "       'Human tox', 'Ecotoxicity ', 'Metals ', 'plastic ', 'fossil tra',\n",
      "       'biodiversity', 'Unnamed: 22', 'Unnamed: 23', 'Carbon ', 'CED',\n",
      "       'Non-renewable', 'Non-renewable.1', 'Non-renewable.2', 'Renewable',\n",
      "       'Renewable.1', 'Renewable.2', 'ReCiPe2016', 'ReCiPe', 'ReCiPe.1',\n",
      "       'ReCiPe.2', 'ReCiPe.3', 'ReCiPe.4', 'ReCiPe.5', 'Global warming, ',\n",
      "       'Global warming, .1', 'Global warming, .2', 'Stratospheric ',\n",
      "       'Ionizing ', 'Ozone formation, ', 'Fine particulate ',\n",
      "       'Ozone formation, .1', 'Terrestrial', 'Freshwater', 'Marine',\n",
      "       'Terrestrial ', 'Freshwater ', 'Marine ', 'Human .1', 'Human .2',\n",
      "       'Land use', 'mineral resource', 'Fossil resource ',\n",
      "       'Water consumption,', 'Water consumption, ', 'Water consumption, .1',\n",
      "       'EF 3.1', 'Acidification', 'Climate change', 'Ecotoxicity',\n",
      "       'Particulate', 'Eutrophication, ', 'Eutrophication, .1',\n",
      "       'Eutrophication,', 'Human toxicity,', 'Human toxicity, non-cancer',\n",
      "       'Ionising radiation', 'Land use.1', 'Ozone depletion',\n",
      "       'Photochemical ozone formation', 'Resource use,', 'Resource use,.1',\n",
      "       'Water use', 'TRACI', 'TRACI.1', 'TRACI.2', 'TRACI.3', 'TRACI.4',\n",
      "       'TRACI.5', 'TRACI.6', 'TRACI.7', 'TRACI.8', 'TRACI.9', 'carbon',\n",
      "       'pollutants', 'water', 'biodiversity.1', 'resources', 'ClassyFire',\n",
      "       'chemicals,plastics, and wood', 'Note:', 'Unnamed: 107', 'Unnamed: 110',\n",
      "       'Unnamed: 118'],\n",
      "      dtype='object')\n"
     ]
    }
   ],
   "source": [
    "# columns in ds2\n",
    "print(ds2.columns)"
   ]
  },
  {
   "cell_type": "code",
   "execution_count": 47,
   "metadata": {},
   "outputs": [
    {
     "name": "stderr",
     "output_type": "stream",
     "text": [
      "/var/folders/xx/v9z2_m390ygcrxz3lmcv2mx80000gn/T/ipykernel_9192/1084819838.py:3: SettingWithCopyWarning: \n",
      "A value is trying to be set on a copy of a slice from a DataFrame\n",
      "\n",
      "See the caveats in the documentation: https://pandas.pydata.org/pandas-docs/stable/user_guide/indexing.html#returning-a-view-versus-a-copy\n",
      "  ds2.rename(columns = {'Unnamed: 4':'Unit'}, inplace = True)\n"
     ]
    }
   ],
   "source": [
    "#rename Unnamed : 4 to Unit\n",
    "\n",
    "ds2.rename(columns = {'Unnamed: 4':'Unit'}, inplace = True)"
   ]
  },
  {
   "cell_type": "code",
   "execution_count": 82,
   "metadata": {},
   "outputs": [],
   "source": [
    "# drop rows with NaN values\n",
    "ds2 = ds2.dropna(how='all')"
   ]
  },
  {
   "cell_type": "code",
   "execution_count": 83,
   "metadata": {},
   "outputs": [],
   "source": [
    "#drop rows with NaN values\n",
    "ds2 = ds2.dropna(subset=['Unit'])"
   ]
  },
  {
   "cell_type": "code",
   "execution_count": 84,
   "metadata": {},
   "outputs": [
    {
     "data": {
      "text/html": [
       "<div>\n",
       "<style scoped>\n",
       "    .dataframe tbody tr th:only-of-type {\n",
       "        vertical-align: middle;\n",
       "    }\n",
       "\n",
       "    .dataframe tbody tr th {\n",
       "        vertical-align: top;\n",
       "    }\n",
       "\n",
       "    .dataframe thead th {\n",
       "        text-align: right;\n",
       "    }\n",
       "</style>\n",
       "<table border=\"1\" class=\"dataframe\">\n",
       "  <thead>\n",
       "    <tr style=\"text-align: right;\">\n",
       "      <th></th>\n",
       "      <th>.</th>\n",
       "      <th>industry</th>\n",
       "      <th>..1</th>\n",
       "      <th>..2</th>\n",
       "      <th>Unit</th>\n",
       "      <th>Process</th>\n",
       "      <th>Total</th>\n",
       "      <th>eco-costs of</th>\n",
       "      <th>eco-costs of.1</th>\n",
       "      <th>eco-costs of.2</th>\n",
       "      <th>...</th>\n",
       "      <th>pollutants</th>\n",
       "      <th>water</th>\n",
       "      <th>biodiversity.1</th>\n",
       "      <th>resources</th>\n",
       "      <th>ClassyFire</th>\n",
       "      <th>chemicals,plastics, and wood</th>\n",
       "      <th>Note:</th>\n",
       "      <th>Unnamed: 107</th>\n",
       "      <th>Unnamed: 110</th>\n",
       "      <th>Unnamed: 118</th>\n",
       "    </tr>\n",
       "  </thead>\n",
       "  <tbody>\n",
       "    <tr>\n",
       "      <th>0</th>\n",
       "      <td>.full</td>\n",
       "      <td>.heading</td>\n",
       "      <td>LCI</td>\n",
       "      <td>.                   Simapro</td>\n",
       "      <td>Unit</td>\n",
       "      <td>NaN</td>\n",
       "      <td>eco-costs</td>\n",
       "      <td>human health</td>\n",
       "      <td>protecting</td>\n",
       "      <td>resource</td>\n",
       "      <td>...</td>\n",
       "      <td>ecocosts</td>\n",
       "      <td>ecocosts</td>\n",
       "      <td>ecocosts</td>\n",
       "      <td>ecocosts</td>\n",
       "      <td>subclass</td>\n",
       "      <td>alternative names</td>\n",
       "      <td>Idemat data based on Ecoinvent can be found at...</td>\n",
       "      <td>NaN</td>\n",
       "      <td>NaN</td>\n",
       "      <td>NaN</td>\n",
       "    </tr>\n",
       "    <tr>\n",
       "      <th>4</th>\n",
       "      <td>A.010.02.101.240318 Leather Chrome tanning - h...</td>\n",
       "      <td>agriculture</td>\n",
       "      <td>A.010.02.101</td>\n",
       "      <td>Materials, agricultural, animal production</td>\n",
       "      <td>kg</td>\n",
       "      <td>Leather Chrome tanning - hides from Argentia</td>\n",
       "      <td>6.047973</td>\n",
       "      <td>1.364848</td>\n",
       "      <td>1.088735</td>\n",
       "      <td>1.207723</td>\n",
       "      <td>...</td>\n",
       "      <td>2.410833</td>\n",
       "      <td>1.05765</td>\n",
       "      <td>1.088735</td>\n",
       "      <td>1.196057</td>\n",
       "      <td>NaN</td>\n",
       "      <td>NaN</td>\n",
       "      <td>NaN</td>\n",
       "      <td>NaN</td>\n",
       "      <td>NaN</td>\n",
       "      <td>NaN</td>\n",
       "    </tr>\n",
       "    <tr>\n",
       "      <th>5</th>\n",
       "      <td>A.010.02.102.240318 Leather Vegetable tanning ...</td>\n",
       "      <td>agriculture</td>\n",
       "      <td>A.010.02.102</td>\n",
       "      <td>Materials, agricultural, animal production</td>\n",
       "      <td>kg</td>\n",
       "      <td>Leather Vegetable tanning - hides from Europe</td>\n",
       "      <td>3.038588</td>\n",
       "      <td>0.173343</td>\n",
       "      <td>0.126751</td>\n",
       "      <td>0.043407</td>\n",
       "      <td>...</td>\n",
       "      <td>0.297146</td>\n",
       "      <td>0.123808</td>\n",
       "      <td>0.126751</td>\n",
       "      <td>0.043402</td>\n",
       "      <td>NaN</td>\n",
       "      <td>NaN</td>\n",
       "      <td>NaN</td>\n",
       "      <td>NaN</td>\n",
       "      <td>NaN</td>\n",
       "      <td>NaN</td>\n",
       "    </tr>\n",
       "    <tr>\n",
       "      <th>6</th>\n",
       "      <td>A.010.02.103.230701 Wool (from Australia trans...</td>\n",
       "      <td>agriculture</td>\n",
       "      <td>A.010.02.103</td>\n",
       "      <td>Materials, agricultural, animal production</td>\n",
       "      <td>kg</td>\n",
       "      <td>Wool (from Australia transported to Rotterdam)</td>\n",
       "      <td>12.14422</td>\n",
       "      <td>0.025574</td>\n",
       "      <td>0.061824</td>\n",
       "      <td>0.34477</td>\n",
       "      <td>...</td>\n",
       "      <td>0.084937</td>\n",
       "      <td>0.059364</td>\n",
       "      <td>0.061824</td>\n",
       "      <td>0.344769</td>\n",
       "      <td>NaN</td>\n",
       "      <td>NaN</td>\n",
       "      <td>NaN</td>\n",
       "      <td>NaN</td>\n",
       "      <td>NaN</td>\n",
       "      <td>NaN</td>\n",
       "    </tr>\n",
       "    <tr>\n",
       "      <th>7</th>\n",
       "      <td>A.010.02.104.230701 Wool at farm Australia</td>\n",
       "      <td>agriculture</td>\n",
       "      <td>A.010.02.104</td>\n",
       "      <td>Materials, agricultural, animal production</td>\n",
       "      <td>kg</td>\n",
       "      <td>Wool at farm Australia</td>\n",
       "      <td>12.056206</td>\n",
       "      <td>0.02448</td>\n",
       "      <td>0.050508</td>\n",
       "      <td>0.317136</td>\n",
       "      <td>...</td>\n",
       "      <td>0.072592</td>\n",
       "      <td>0.048114</td>\n",
       "      <td>0.050508</td>\n",
       "      <td>0.317135</td>\n",
       "      <td>NaN</td>\n",
       "      <td>NaN</td>\n",
       "      <td>NaN</td>\n",
       "      <td>NaN</td>\n",
       "      <td>NaN</td>\n",
       "      <td>NaN</td>\n",
       "    </tr>\n",
       "  </tbody>\n",
       "</table>\n",
       "<p>5 rows × 99 columns</p>\n",
       "</div>"
      ],
      "text/plain": [
       "                                                   .     industry  \\\n",
       "0                                              .full     .heading   \n",
       "4  A.010.02.101.240318 Leather Chrome tanning - h...  agriculture   \n",
       "5  A.010.02.102.240318 Leather Vegetable tanning ...  agriculture   \n",
       "6  A.010.02.103.230701 Wool (from Australia trans...  agriculture   \n",
       "7         A.010.02.104.230701 Wool at farm Australia  agriculture   \n",
       "\n",
       "            ..1                                         ..2  Unit  \\\n",
       "0           LCI                 .                   Simapro  Unit   \n",
       "4  A.010.02.101  Materials, agricultural, animal production   kg    \n",
       "5  A.010.02.102  Materials, agricultural, animal production   kg    \n",
       "6  A.010.02.103  Materials, agricultural, animal production   kg    \n",
       "7  A.010.02.104  Materials, agricultural, animal production   kg    \n",
       "\n",
       "                                          Process      Total  eco-costs of  \\\n",
       "0                                             NaN  eco-costs  human health   \n",
       "4    Leather Chrome tanning - hides from Argentia   6.047973      1.364848   \n",
       "5   Leather Vegetable tanning - hides from Europe   3.038588      0.173343   \n",
       "6  Wool (from Australia transported to Rotterdam)   12.14422      0.025574   \n",
       "7                          Wool at farm Australia  12.056206       0.02448   \n",
       "\n",
       "  eco-costs of.1 eco-costs of.2  ... pollutants     water biodiversity.1  \\\n",
       "0     protecting       resource  ...   ecocosts  ecocosts       ecocosts   \n",
       "4       1.088735       1.207723  ...   2.410833   1.05765       1.088735   \n",
       "5       0.126751       0.043407  ...   0.297146  0.123808       0.126751   \n",
       "6       0.061824        0.34477  ...   0.084937  0.059364       0.061824   \n",
       "7       0.050508       0.317136  ...   0.072592  0.048114       0.050508   \n",
       "\n",
       "  resources ClassyFire chemicals,plastics, and wood  \\\n",
       "0  ecocosts   subclass            alternative names   \n",
       "4  1.196057        NaN                          NaN   \n",
       "5  0.043402        NaN                          NaN   \n",
       "6  0.344769        NaN                          NaN   \n",
       "7  0.317135        NaN                          NaN   \n",
       "\n",
       "                                               Note: Unnamed: 107  \\\n",
       "0  Idemat data based on Ecoinvent can be found at...          NaN   \n",
       "4                                                NaN          NaN   \n",
       "5                                                NaN          NaN   \n",
       "6                                                NaN          NaN   \n",
       "7                                                NaN          NaN   \n",
       "\n",
       "  Unnamed: 110 Unnamed: 118  \n",
       "0          NaN          NaN  \n",
       "4          NaN          NaN  \n",
       "5          NaN          NaN  \n",
       "6          NaN          NaN  \n",
       "7          NaN          NaN  \n",
       "\n",
       "[5 rows x 99 columns]"
      ]
     },
     "execution_count": 84,
     "metadata": {},
     "output_type": "execute_result"
    }
   ],
   "source": [
    "ds2.head()"
   ]
  },
  {
   "cell_type": "code",
   "execution_count": 85,
   "metadata": {},
   "outputs": [],
   "source": [
    "pattern = r\".*\"\n",
    "filtered_df = ds2[ds2.iloc[:, 1].str.match(pattern, na=False)]"
   ]
  },
  {
   "cell_type": "code",
   "execution_count": 86,
   "metadata": {},
   "outputs": [],
   "source": [
    "# unique values in column 1 store in list\n",
    "unique_industries = filtered_df.iloc[:, 1].unique()"
   ]
  },
  {
   "cell_type": "code",
   "execution_count": 87,
   "metadata": {},
   "outputs": [
    {
     "name": "stdout",
     "output_type": "stream",
     "text": [
      "Saved industries/.heading.xlsx\n",
      "Saved industries/agriculture.xlsx\n",
      "Saved industries/ceramics.xlsx\n",
      "Saved industries/chemicals.xlsx\n",
      "Saved industries/building materials.xlsx\n",
      "Saved industries/electronics.xlsx\n",
      "Saved industries/fibres.xlsx\n",
      "Saved industries/fuels.xlsx\n",
      "Saved industries/glass.xlsx\n",
      "Saved industries/laminates.xlsx\n",
      "Saved industries/metals, ferro.xlsx\n",
      "Saved industries/metals, non-ferro.xlsx\n",
      "Saved industries/paper & packaging.xlsx\n",
      "Saved industries/plastics.xlsx\n",
      "Saved industries/textile.xlsx\n",
      "Saved industries/water.xlsx\n",
      "Saved industries/wood.xlsx\n",
      "Saved industries/electricity.xlsx\n",
      "Saved industries/electricity general industry.xlsx\n",
      "Saved industries/electricity EU .xlsx\n",
      "Saved industries/electricity Rest of the World.xlsx\n",
      "Saved industries/electricity Canada.xlsx\n",
      "Saved industries/electricity China.xlsx\n",
      "Saved industries/electricity India.xlsx\n",
      "Saved industries/electricity USA.xlsx\n",
      "Saved industries/heat.xlsx\n",
      "Saved industries/transport.xlsx\n",
      "Saved industries/processing metals.xlsx\n",
      "Saved industries/end-of-life.xlsx\n",
      "Saved industries/food.xlsx\n",
      "Saved industries/chem proxi.xlsx\n",
      "Saved industries/scope 1 & downsrtream.xlsx\n"
     ]
    }
   ],
   "source": [
    "import os\n",
    "import pandas as pd\n",
    "\n",
    "# Define the directory where you want to save the files\n",
    "output_dir = \"industries\"\n",
    "\n",
    "# Create the directory if it doesn't exist\n",
    "os.makedirs(output_dir, exist_ok=True)\n",
    "\n",
    "# Save separate Excel files for each unique industry in the specified directory\n",
    "for industry in unique_industries:\n",
    "    industry_df = filtered_df[filtered_df.iloc[:, 1] == industry]\n",
    "    file_name = f\"{industry}.xlsx\".replace(\"/\", \"_\")  # Replace invalid characters\n",
    "    file_path = os.path.join(output_dir, file_name)  # Full path\n",
    "    industry_df.to_excel(file_path, index=False)\n",
    "    print(f\"Saved {file_path}\")\n"
   ]
  }
 ],
 "metadata": {
  "kernelspec": {
   "display_name": "captionKraftNov25",
   "language": "python",
   "name": "python3"
  },
  "language_info": {
   "codemirror_mode": {
    "name": "ipython",
    "version": 3
   },
   "file_extension": ".py",
   "mimetype": "text/x-python",
   "name": "python",
   "nbconvert_exporter": "python",
   "pygments_lexer": "ipython3",
   "version": "3.9.7"
  },
  "orig_nbformat": 4
 },
 "nbformat": 4,
 "nbformat_minor": 2
}
