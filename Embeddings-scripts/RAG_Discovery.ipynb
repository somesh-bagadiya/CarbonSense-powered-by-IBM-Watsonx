{
 "cells": [
  {
   "cell_type": "code",
   "execution_count": 1,
   "metadata": {},
   "outputs": [],
   "source": [
    "import os\n",
    "import json\n",
    "from dotenv import load_dotenv\n",
    "from ibm_watson import DiscoveryV2\n",
    "from ibm_cloud_sdk_core.authenticators import IAMAuthenticator\n",
    "\n",
    "load_dotenv()\n",
    "\n",
    "# IBM COS Config\n",
    "WATSONX_DISCOVERY_PROJECT_ID = os.getenv(\"WATSONX_DISCOVERY_PROJECT_ID\")\n",
    "WATSONX_DISCOVERY_URL = os.getenv(\"WATSONX_DISCOVERY_URL\")\n",
    "WATSONX_DISCOVERY_API_KEY = os.getenv(\"WATSONX_DISCOVERY_API_KEY\")\n",
    "\n",
    "authenticator = IAMAuthenticator( WATSONX_DISCOVERY_API_KEY )\n",
    "g_discovery = DiscoveryV2( version= \"2025-03-17\", authenticator=authenticator )\n",
    "\n",
    "g_discovery.set_service_url( WATSONX_DISCOVERY_URL )"
   ]
  },
  {
   "cell_type": "code",
   "execution_count": null,
   "metadata": {},
   "outputs": [
    {
     "name": "stdout",
     "output_type": "stream",
     "text": [
      "Discovery project ID:\n",
      "27e79091-6f01-4a54-b4c3-72fcbcbf6ffc\n"
     ]
    }
   ],
   "source": [
    "project_name = \"CarbonSense-Test\"\n",
    "\n",
    "project_creation_result = g_discovery.create_project( name=project_name, type=\"document_retrieval\" ).get_result()\n",
    "g_discovery_project_id = project_creation_result[\"project_id\"]\n",
    "\n",
    "print( \"Discovery project ID:\\n\" + g_discovery_project_id )"
   ]
  },
  {
   "cell_type": "code",
   "execution_count": 4,
   "metadata": {},
   "outputs": [
    {
     "data": {
      "text/plain": [
       "dict"
      ]
     },
     "execution_count": 4,
     "metadata": {},
     "output_type": "execute_result"
    }
   ],
   "source": [
    "type(project_creation_result)"
   ]
  },
  {
   "cell_type": "code",
   "execution_count": 9,
   "metadata": {},
   "outputs": [
    {
     "name": "stdout",
     "output_type": "stream",
     "text": [
      "CarbonSense-Discovery\n"
     ]
    }
   ],
   "source": [
    "response = g_discovery.get_project(project_id=WATSONX_DISCOVERY_PROJECT_ID).get_result()\n",
    "\n",
    "print(response['name'])"
   ]
  },
  {
   "cell_type": "code",
   "execution_count": null,
   "metadata": {},
   "outputs": [],
   "source": []
  }
 ],
 "metadata": {
  "kernelspec": {
   "display_name": "carbonsense_env",
   "language": "python",
   "name": "python3"
  },
  "language_info": {
   "codemirror_mode": {
    "name": "ipython",
    "version": 3
   },
   "file_extension": ".py",
   "mimetype": "text/x-python",
   "name": "python",
   "nbconvert_exporter": "python",
   "pygments_lexer": "ipython3",
   "version": "3.13.2"
  }
 },
 "nbformat": 4,
 "nbformat_minor": 2
}
