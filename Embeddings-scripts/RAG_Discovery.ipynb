{
 "cells": [
  {
   "cell_type": "code",
   "execution_count": null,
   "metadata": {},
   "outputs": [],
   "source": [
    "import os\n",
    "from dotenv import load_dotenv\n",
    "from ibm_watson import DiscoveryV2\n",
    "from ibm_cloud_sdk_core.authenticators import IAMAuthenticator\n",
    "\n",
    "load_dotenv()\n",
    "\n",
    "# IBM COS Config\n",
    "WATSONX_DISCOVERY_PROJECT_ID = os.getenv(\"WATSONX_DISCOVERY_PROJECT_ID\")\n",
    "WATSONX_DISCOVERY_URL = os.getenv(\"WATSONX_DISCOVERY_URL\")\n",
    "COS_API_KEY = os.getenv(\"COS_API_KEY\")\n",
    "\n",
    "authenticator = IAMAuthenticator( COS_API_KEY )\n",
    "g_discovery = DiscoveryV2( version= \"2023-03-31\", authenticator=authenticator )\n",
    "\n",
    "g_discovery.set_service_url( WATSONX_DISCOVERY_URL )"
   ]
  },
  {
   "cell_type": "code",
   "execution_count": 8,
   "metadata": {},
   "outputs": [],
   "source": [
    "def search( question ):\n",
    "    response_json = g_discovery.query( project_id=WATSONX_DISCOVERY_PROJECT_ID, \n",
    "                                       natural_language_query=question\n",
    "                                     ).get_result()\n",
    "    #print( json.dumps( response_json, indent=3 ) )\n",
    "    results_arr = response_json[\"results\"]\n",
    "    if( len( results_arr ) < 1 ):\n",
    "        return None\n",
    "    top_result = results_arr[0]\n",
    "    top_asset = { \"title\"     : top_result[\"metadata\"][\"title\"],\n",
    "                  \"author\"    : top_result[\"metadata\"][\"author\"],\n",
    "                  \"published\" : top_result[\"metadata\"][\"published\"],\n",
    "                  \"text\"      : top_result[\"text\"][0] }\n",
    "    return top_asset"
   ]
  },
  {
   "cell_type": "code",
   "execution_count": 9,
   "metadata": {},
   "outputs": [
    {
     "ename": "ApiException",
     "evalue": "Error: Provided API key could not be found., Status code: 400",
     "output_type": "error",
     "traceback": [
      "\u001b[1;31m---------------------------------------------------------------------------\u001b[0m",
      "\u001b[1;31mApiException\u001b[0m                              Traceback (most recent call last)",
      "Cell \u001b[1;32mIn[9], line 1\u001b[0m\n\u001b[1;32m----> 1\u001b[0m search( \u001b[38;5;124m\"\u001b[39m\u001b[38;5;124mHow tall do cucumbers grow?\u001b[39m\u001b[38;5;124m\"\u001b[39m)\n",
      "Cell \u001b[1;32mIn[8], line 2\u001b[0m, in \u001b[0;36msearch\u001b[1;34m(question)\u001b[0m\n\u001b[0;32m      1\u001b[0m \u001b[38;5;28;01mdef\u001b[39;00m \u001b[38;5;21msearch\u001b[39m( question ):\n\u001b[1;32m----> 2\u001b[0m     response_json \u001b[38;5;241m=\u001b[39m g_discovery\u001b[38;5;241m.\u001b[39mquery( project_id\u001b[38;5;241m=\u001b[39mWATSONX_DISCOVERY_PROJECT_ID, \n\u001b[0;32m      3\u001b[0m                                        natural_language_query\u001b[38;5;241m=\u001b[39mquestion\n\u001b[0;32m      4\u001b[0m                                      )\u001b[38;5;241m.\u001b[39mget_result()\n\u001b[0;32m      5\u001b[0m     \u001b[38;5;66;03m#print( json.dumps( response_json, indent=3 ) )\u001b[39;00m\n\u001b[0;32m      6\u001b[0m     results_arr \u001b[38;5;241m=\u001b[39m response_json[\u001b[38;5;124m\"\u001b[39m\u001b[38;5;124mresults\u001b[39m\u001b[38;5;124m\"\u001b[39m]\n",
      "File \u001b[1;32mc:\\Users\\somes\\anaconda3\\envs\\carbonsense_env\\Lib\\site-packages\\ibm_watson\\discovery_v2.py:1432\u001b[0m, in \u001b[0;36mDiscoveryV2.query\u001b[1;34m(self, project_id, collection_ids, filter, query, natural_language_query, aggregation, count, return_, offset, sort, highlight, spelling_suggestions, table_results, suggested_refinements, passages, similar, **kwargs)\u001b[0m\n\u001b[0;32m   1430\u001b[0m path_param_dict \u001b[38;5;241m=\u001b[39m \u001b[38;5;28mdict\u001b[39m(\u001b[38;5;28mzip\u001b[39m(path_param_keys, path_param_values))\n\u001b[0;32m   1431\u001b[0m url \u001b[38;5;241m=\u001b[39m \u001b[38;5;124m'\u001b[39m\u001b[38;5;124m/v2/projects/\u001b[39m\u001b[38;5;132;01m{project_id}\u001b[39;00m\u001b[38;5;124m/query\u001b[39m\u001b[38;5;124m'\u001b[39m\u001b[38;5;241m.\u001b[39mformat(\u001b[38;5;241m*\u001b[39m\u001b[38;5;241m*\u001b[39mpath_param_dict)\n\u001b[1;32m-> 1432\u001b[0m request \u001b[38;5;241m=\u001b[39m \u001b[38;5;28mself\u001b[39m\u001b[38;5;241m.\u001b[39mprepare_request(\n\u001b[0;32m   1433\u001b[0m     method\u001b[38;5;241m=\u001b[39m\u001b[38;5;124m'\u001b[39m\u001b[38;5;124mPOST\u001b[39m\u001b[38;5;124m'\u001b[39m,\n\u001b[0;32m   1434\u001b[0m     url\u001b[38;5;241m=\u001b[39murl,\n\u001b[0;32m   1435\u001b[0m     headers\u001b[38;5;241m=\u001b[39mheaders,\n\u001b[0;32m   1436\u001b[0m     params\u001b[38;5;241m=\u001b[39mparams,\n\u001b[0;32m   1437\u001b[0m     data\u001b[38;5;241m=\u001b[39mdata,\n\u001b[0;32m   1438\u001b[0m )\n\u001b[0;32m   1440\u001b[0m response \u001b[38;5;241m=\u001b[39m \u001b[38;5;28mself\u001b[39m\u001b[38;5;241m.\u001b[39msend(request, \u001b[38;5;241m*\u001b[39m\u001b[38;5;241m*\u001b[39mkwargs)\n\u001b[0;32m   1441\u001b[0m \u001b[38;5;28;01mreturn\u001b[39;00m response\n",
      "File \u001b[1;32mc:\\Users\\somes\\anaconda3\\envs\\carbonsense_env\\Lib\\site-packages\\ibm_cloud_sdk_core\\base_service.py:441\u001b[0m, in \u001b[0;36mBaseService.prepare_request\u001b[1;34m(self, method, url, headers, params, data, files, **kwargs)\u001b[0m\n\u001b[0;32m    438\u001b[0m     data \u001b[38;5;241m=\u001b[39m json_import\u001b[38;5;241m.\u001b[39mdumps(data)\u001b[38;5;241m.\u001b[39mencode(\u001b[38;5;124m'\u001b[39m\u001b[38;5;124mutf-8\u001b[39m\u001b[38;5;124m'\u001b[39m)\n\u001b[0;32m    439\u001b[0m request[\u001b[38;5;124m'\u001b[39m\u001b[38;5;124mdata\u001b[39m\u001b[38;5;124m'\u001b[39m] \u001b[38;5;241m=\u001b[39m data\n\u001b[1;32m--> 441\u001b[0m \u001b[38;5;28mself\u001b[39m\u001b[38;5;241m.\u001b[39mauthenticator\u001b[38;5;241m.\u001b[39mauthenticate(request)\n\u001b[0;32m    443\u001b[0m \u001b[38;5;66;03m# Compress the request body if applicable\u001b[39;00m\n\u001b[0;32m    444\u001b[0m \u001b[38;5;28;01mif\u001b[39;00m \u001b[38;5;28mself\u001b[39m\u001b[38;5;241m.\u001b[39mget_enable_gzip_compression() \u001b[38;5;129;01mand\u001b[39;00m \u001b[38;5;124m'\u001b[39m\u001b[38;5;124mcontent-encoding\u001b[39m\u001b[38;5;124m'\u001b[39m \u001b[38;5;129;01mnot\u001b[39;00m \u001b[38;5;129;01min\u001b[39;00m headers \u001b[38;5;129;01mand\u001b[39;00m request[\u001b[38;5;124m'\u001b[39m\u001b[38;5;124mdata\u001b[39m\u001b[38;5;124m'\u001b[39m] \u001b[38;5;129;01mis\u001b[39;00m \u001b[38;5;129;01mnot\u001b[39;00m \u001b[38;5;28;01mNone\u001b[39;00m:\n",
      "File \u001b[1;32mc:\\Users\\somes\\anaconda3\\envs\\carbonsense_env\\Lib\\site-packages\\ibm_cloud_sdk_core\\authenticators\\iam_request_based_authenticator.py:64\u001b[0m, in \u001b[0;36mIAMRequestBasedAuthenticator.authenticate\u001b[1;34m(self, req)\u001b[0m\n\u001b[0;32m     53\u001b[0m \u001b[38;5;250m\u001b[39m\u001b[38;5;124;03m\"\"\"Adds IAM authentication information to the request.\u001b[39;00m\n\u001b[0;32m     54\u001b[0m \n\u001b[0;32m     55\u001b[0m \u001b[38;5;124;03mThe IAM bearer token will be added to the request's headers in the form:\u001b[39;00m\n\u001b[1;32m   (...)\u001b[0m\n\u001b[0;32m     61\u001b[0m \u001b[38;5;124;03m    called headers.\u001b[39;00m\n\u001b[0;32m     62\u001b[0m \u001b[38;5;124;03m\"\"\"\u001b[39;00m\n\u001b[0;32m     63\u001b[0m headers \u001b[38;5;241m=\u001b[39m req\u001b[38;5;241m.\u001b[39mget(\u001b[38;5;124m'\u001b[39m\u001b[38;5;124mheaders\u001b[39m\u001b[38;5;124m'\u001b[39m)\n\u001b[1;32m---> 64\u001b[0m bearer_token \u001b[38;5;241m=\u001b[39m \u001b[38;5;28mself\u001b[39m\u001b[38;5;241m.\u001b[39mtoken_manager\u001b[38;5;241m.\u001b[39mget_token()\n\u001b[0;32m     65\u001b[0m headers[\u001b[38;5;124m'\u001b[39m\u001b[38;5;124mAuthorization\u001b[39m\u001b[38;5;124m'\u001b[39m] \u001b[38;5;241m=\u001b[39m \u001b[38;5;124m'\u001b[39m\u001b[38;5;124mBearer \u001b[39m\u001b[38;5;132;01m{0}\u001b[39;00m\u001b[38;5;124m'\u001b[39m\u001b[38;5;241m.\u001b[39mformat(bearer_token)\n\u001b[0;32m     66\u001b[0m logger\u001b[38;5;241m.\u001b[39mdebug(\u001b[38;5;124m'\u001b[39m\u001b[38;5;124mAuthenticated outbound request (type=\u001b[39m\u001b[38;5;132;01m%s\u001b[39;00m\u001b[38;5;124m)\u001b[39m\u001b[38;5;124m'\u001b[39m, \u001b[38;5;28mself\u001b[39m\u001b[38;5;241m.\u001b[39mauthentication_type())\n",
      "File \u001b[1;32mc:\\Users\\somes\\anaconda3\\envs\\carbonsense_env\\Lib\\site-packages\\ibm_cloud_sdk_core\\token_managers\\token_manager.py:82\u001b[0m, in \u001b[0;36mTokenManager.get_token\u001b[1;34m(self)\u001b[0m\n\u001b[0;32m     80\u001b[0m \u001b[38;5;28;01mif\u001b[39;00m \u001b[38;5;28mself\u001b[39m\u001b[38;5;241m.\u001b[39m_is_token_expired():\n\u001b[0;32m     81\u001b[0m     logger\u001b[38;5;241m.\u001b[39mdebug(\u001b[38;5;124m'\u001b[39m\u001b[38;5;124mPerforming synchronous token fetch\u001b[39m\u001b[38;5;124m'\u001b[39m)\n\u001b[1;32m---> 82\u001b[0m     \u001b[38;5;28mself\u001b[39m\u001b[38;5;241m.\u001b[39mpaced_request_token()\n\u001b[0;32m     84\u001b[0m \u001b[38;5;28;01mif\u001b[39;00m \u001b[38;5;28mself\u001b[39m\u001b[38;5;241m.\u001b[39m_token_needs_refresh():\n\u001b[0;32m     85\u001b[0m     logger\u001b[38;5;241m.\u001b[39mdebug(\u001b[38;5;124m'\u001b[39m\u001b[38;5;124mPerforming background asynchronous token fetch\u001b[39m\u001b[38;5;124m'\u001b[39m)\n",
      "File \u001b[1;32mc:\\Users\\somes\\anaconda3\\envs\\carbonsense_env\\Lib\\site-packages\\ibm_cloud_sdk_core\\token_managers\\token_manager.py:141\u001b[0m, in \u001b[0;36mTokenManager.paced_request_token\u001b[1;34m(self)\u001b[0m\n\u001b[0;32m    138\u001b[0m         \u001b[38;5;28mself\u001b[39m\u001b[38;5;241m.\u001b[39mrequest_time \u001b[38;5;241m=\u001b[39m current_time\n\u001b[0;32m    140\u001b[0m \u001b[38;5;28;01mif\u001b[39;00m \u001b[38;5;129;01mnot\u001b[39;00m request_active:\n\u001b[1;32m--> 141\u001b[0m     token_response \u001b[38;5;241m=\u001b[39m \u001b[38;5;28mself\u001b[39m\u001b[38;5;241m.\u001b[39mrequest_token()\n\u001b[0;32m    142\u001b[0m     \u001b[38;5;28mself\u001b[39m\u001b[38;5;241m.\u001b[39m_save_token_info(token_response)\n\u001b[0;32m    143\u001b[0m     \u001b[38;5;28mself\u001b[39m\u001b[38;5;241m.\u001b[39mrequest_time \u001b[38;5;241m=\u001b[39m \u001b[38;5;241m0\u001b[39m\n",
      "File \u001b[1;32mc:\\Users\\somes\\anaconda3\\envs\\carbonsense_env\\Lib\\site-packages\\ibm_cloud_sdk_core\\token_managers\\iam_request_based_token_manager.py:127\u001b[0m, in \u001b[0;36mIAMRequestBasedTokenManager.request_token\u001b[1;34m(self)\u001b[0m\n\u001b[0;32m    125\u001b[0m request_url \u001b[38;5;241m=\u001b[39m (\u001b[38;5;28mself\u001b[39m\u001b[38;5;241m.\u001b[39murl \u001b[38;5;241m+\u001b[39m \u001b[38;5;28mself\u001b[39m\u001b[38;5;241m.\u001b[39mOPERATION_PATH) \u001b[38;5;28;01mif\u001b[39;00m \u001b[38;5;28mself\u001b[39m\u001b[38;5;241m.\u001b[39murl \u001b[38;5;28;01melse\u001b[39;00m \u001b[38;5;28mself\u001b[39m\u001b[38;5;241m.\u001b[39murl\n\u001b[0;32m    126\u001b[0m logger\u001b[38;5;241m.\u001b[39mdebug(\u001b[38;5;124m'\u001b[39m\u001b[38;5;124mInvoking IAM get_token operation: \u001b[39m\u001b[38;5;132;01m%s\u001b[39;00m\u001b[38;5;124m'\u001b[39m, request_url)\n\u001b[1;32m--> 127\u001b[0m response \u001b[38;5;241m=\u001b[39m \u001b[38;5;28mself\u001b[39m\u001b[38;5;241m.\u001b[39m_request(\n\u001b[0;32m    128\u001b[0m     method\u001b[38;5;241m=\u001b[39m\u001b[38;5;124m'\u001b[39m\u001b[38;5;124mPOST\u001b[39m\u001b[38;5;124m'\u001b[39m,\n\u001b[0;32m    129\u001b[0m     url\u001b[38;5;241m=\u001b[39mrequest_url,\n\u001b[0;32m    130\u001b[0m     headers\u001b[38;5;241m=\u001b[39mrequest_headers,\n\u001b[0;32m    131\u001b[0m     data\u001b[38;5;241m=\u001b[39mdata,\n\u001b[0;32m    132\u001b[0m     auth_tuple\u001b[38;5;241m=\u001b[39mauth_tuple,\n\u001b[0;32m    133\u001b[0m     proxies\u001b[38;5;241m=\u001b[39m\u001b[38;5;28mself\u001b[39m\u001b[38;5;241m.\u001b[39mproxies,\n\u001b[0;32m    134\u001b[0m )\n\u001b[0;32m    135\u001b[0m logger\u001b[38;5;241m.\u001b[39mdebug(\u001b[38;5;124m'\u001b[39m\u001b[38;5;124mReturned from IAM get_token operation\u001b[39m\u001b[38;5;124m'\u001b[39m)\n\u001b[0;32m    136\u001b[0m \u001b[38;5;28;01mreturn\u001b[39;00m response\n",
      "File \u001b[1;32mc:\\Users\\somes\\anaconda3\\envs\\carbonsense_env\\Lib\\site-packages\\ibm_cloud_sdk_core\\token_managers\\jwt_token_manager.py:91\u001b[0m, in \u001b[0;36mJWTTokenManager._request\u001b[1;34m(self, method, url, headers, params, data, auth_tuple, **kwargs)\u001b[0m\n\u001b[0;32m     88\u001b[0m \u001b[38;5;28;01mif\u001b[39;00m \u001b[38;5;241m200\u001b[39m \u001b[38;5;241m<\u001b[39m\u001b[38;5;241m=\u001b[39m response\u001b[38;5;241m.\u001b[39mstatus_code \u001b[38;5;241m<\u001b[39m\u001b[38;5;241m=\u001b[39m \u001b[38;5;241m299\u001b[39m:\n\u001b[0;32m     89\u001b[0m     \u001b[38;5;28;01mreturn\u001b[39;00m response\u001b[38;5;241m.\u001b[39mjson()\n\u001b[1;32m---> 91\u001b[0m \u001b[38;5;28;01mraise\u001b[39;00m ApiException(response\u001b[38;5;241m.\u001b[39mstatus_code, http_response\u001b[38;5;241m=\u001b[39mresponse)\n",
      "\u001b[1;31mApiException\u001b[0m: Error: Provided API key could not be found., Status code: 400"
     ]
    }
   ],
   "source": [
    "search( \"How tall do cucumbers grow?\")"
   ]
  }
 ],
 "metadata": {
  "kernelspec": {
   "display_name": "carbonsense_env",
   "language": "python",
   "name": "python3"
  },
  "language_info": {
   "codemirror_mode": {
    "name": "ipython",
    "version": 3
   },
   "file_extension": ".py",
   "mimetype": "text/x-python",
   "name": "python",
   "nbconvert_exporter": "python",
   "pygments_lexer": "ipython3",
   "version": "3.13.2"
  }
 },
 "nbformat": 4,
 "nbformat_minor": 2
}
