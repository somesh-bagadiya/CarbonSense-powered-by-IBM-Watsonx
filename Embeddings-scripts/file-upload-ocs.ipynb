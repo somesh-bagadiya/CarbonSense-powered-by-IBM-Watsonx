{
 "cells": [
  {
   "cell_type": "code",
   "execution_count": 3,
   "metadata": {},
   "outputs": [
    {
     "ename": "FileNotFoundError",
     "evalue": "[Errno 2] No such file or directory: 'local_file.txt'",
     "output_type": "error",
     "traceback": [
      "\u001b[0;31m---------------------------------------------------------------------------\u001b[0m",
      "\u001b[0;31mFileNotFoundError\u001b[0m                         Traceback (most recent call last)",
      "Cell \u001b[0;32mIn[3], line 25\u001b[0m\n\u001b[1;32m     16\u001b[0m cos \u001b[39m=\u001b[39m client(\n\u001b[1;32m     17\u001b[0m     \u001b[39m\"\u001b[39m\u001b[39ms3\u001b[39m\u001b[39m\"\u001b[39m,\n\u001b[1;32m     18\u001b[0m     ibm_api_key_id\u001b[39m=\u001b[39mCOS_API_KEY,\n\u001b[0;32m   (...)\u001b[0m\n\u001b[1;32m     21\u001b[0m     endpoint_url\u001b[39m=\u001b[39mCOS_ENDPOINT\n\u001b[1;32m     22\u001b[0m )\n\u001b[1;32m     24\u001b[0m \u001b[39m# Upload a file\u001b[39;00m\n\u001b[0;32m---> 25\u001b[0m cos\u001b[39m.\u001b[39;49mupload_file(Filename\u001b[39m=\u001b[39;49m\u001b[39m\"\u001b[39;49m\u001b[39mlocal_file.txt\u001b[39;49m\u001b[39m\"\u001b[39;49m, Bucket\u001b[39m=\u001b[39;49m\u001b[39m\"\u001b[39;49m\u001b[39myour-bucket-name\u001b[39;49m\u001b[39m\"\u001b[39;49m, Key\u001b[39m=\u001b[39;49m\u001b[39m\"\u001b[39;49m\u001b[39muploaded_file.txt\u001b[39;49m\u001b[39m\"\u001b[39;49m)\n\u001b[1;32m     26\u001b[0m \u001b[39mprint\u001b[39m(\u001b[39m\"\u001b[39m\u001b[39mFile uploaded successfully!\u001b[39m\u001b[39m\"\u001b[39m)\n",
      "File \u001b[0;32m~/anaconda3/envs/captionKraftNov25/lib/python3.9/site-packages/ibm_boto3/s3/inject.py:145\u001b[0m, in \u001b[0;36mupload_file\u001b[0;34m(self, Filename, Bucket, Key, ExtraArgs, Callback, Config)\u001b[0m\n\u001b[1;32m    110\u001b[0m \u001b[39m\u001b[39m\u001b[39m\"\"\"Upload a file to an S3 object.\u001b[39;00m\n\u001b[1;32m    111\u001b[0m \n\u001b[1;32m    112\u001b[0m \u001b[39mUsage::\u001b[39;00m\n\u001b[0;32m   (...)\u001b[0m\n\u001b[1;32m    142\u001b[0m \u001b[39m    transfer.\u001b[39;00m\n\u001b[1;32m    143\u001b[0m \u001b[39m\"\"\"\u001b[39;00m\n\u001b[1;32m    144\u001b[0m \u001b[39mwith\u001b[39;00m S3Transfer(\u001b[39mself\u001b[39m, Config) \u001b[39mas\u001b[39;00m transfer:\n\u001b[0;32m--> 145\u001b[0m     \u001b[39mreturn\u001b[39;00m transfer\u001b[39m.\u001b[39;49mupload_file(\n\u001b[1;32m    146\u001b[0m         filename\u001b[39m=\u001b[39;49mFilename,\n\u001b[1;32m    147\u001b[0m         bucket\u001b[39m=\u001b[39;49mBucket,\n\u001b[1;32m    148\u001b[0m         key\u001b[39m=\u001b[39;49mKey,\n\u001b[1;32m    149\u001b[0m         extra_args\u001b[39m=\u001b[39;49mExtraArgs,\n\u001b[1;32m    150\u001b[0m         callback\u001b[39m=\u001b[39;49mCallback,\n\u001b[1;32m    151\u001b[0m     )\n",
      "File \u001b[0;32m~/anaconda3/envs/captionKraftNov25/lib/python3.9/site-packages/ibm_boto3/s3/transfer.py:296\u001b[0m, in \u001b[0;36mS3Transfer.upload_file\u001b[0;34m(self, filename, bucket, key, callback, extra_args)\u001b[0m\n\u001b[1;32m    292\u001b[0m future \u001b[39m=\u001b[39m \u001b[39mself\u001b[39m\u001b[39m.\u001b[39m_manager\u001b[39m.\u001b[39mupload(\n\u001b[1;32m    293\u001b[0m     filename, bucket, key, extra_args, subscribers\n\u001b[1;32m    294\u001b[0m )\n\u001b[1;32m    295\u001b[0m \u001b[39mtry\u001b[39;00m:\n\u001b[0;32m--> 296\u001b[0m     future\u001b[39m.\u001b[39;49mresult()\n\u001b[1;32m    297\u001b[0m \u001b[39m# If a client error was raised, add the backwards compatibility layer\u001b[39;00m\n\u001b[1;32m    298\u001b[0m \u001b[39m# that raises a S3UploadFailedError. These specific errors were only\u001b[39;00m\n\u001b[1;32m    299\u001b[0m \u001b[39m# ever thrown for upload_parts but now can be thrown for any related\u001b[39;00m\n\u001b[1;32m    300\u001b[0m \u001b[39m# client error.\u001b[39;00m\n\u001b[1;32m    301\u001b[0m \u001b[39mexcept\u001b[39;00m ClientError \u001b[39mas\u001b[39;00m e:\n",
      "File \u001b[0;32m~/anaconda3/envs/captionKraftNov25/lib/python3.9/site-packages/ibm_s3transfer/futures.py:103\u001b[0m, in \u001b[0;36mTransferFuture.result\u001b[0;34m(self)\u001b[0m\n\u001b[1;32m     98\u001b[0m \u001b[39mdef\u001b[39;00m \u001b[39mresult\u001b[39m(\u001b[39mself\u001b[39m):\n\u001b[1;32m     99\u001b[0m     \u001b[39mtry\u001b[39;00m:\n\u001b[1;32m    100\u001b[0m         \u001b[39m# Usually the result() method blocks until the transfer is done,\u001b[39;00m\n\u001b[1;32m    101\u001b[0m         \u001b[39m# however if a KeyboardInterrupt is raised we want want to exit\u001b[39;00m\n\u001b[1;32m    102\u001b[0m         \u001b[39m# out of this and propagate the exception.\u001b[39;00m\n\u001b[0;32m--> 103\u001b[0m         \u001b[39mreturn\u001b[39;00m \u001b[39mself\u001b[39;49m\u001b[39m.\u001b[39;49m_coordinator\u001b[39m.\u001b[39;49mresult()\n\u001b[1;32m    104\u001b[0m     \u001b[39mexcept\u001b[39;00m \u001b[39mKeyboardInterrupt\u001b[39;00m \u001b[39mas\u001b[39;00m e:\n\u001b[1;32m    105\u001b[0m         \u001b[39mself\u001b[39m\u001b[39m.\u001b[39mcancel()\n",
      "File \u001b[0;32m~/anaconda3/envs/captionKraftNov25/lib/python3.9/site-packages/ibm_s3transfer/futures.py:266\u001b[0m, in \u001b[0;36mTransferCoordinator.result\u001b[0;34m(self)\u001b[0m\n\u001b[1;32m    263\u001b[0m \u001b[39m# Once done waiting, raise an exception if present or return the\u001b[39;00m\n\u001b[1;32m    264\u001b[0m \u001b[39m# final result.\u001b[39;00m\n\u001b[1;32m    265\u001b[0m \u001b[39mif\u001b[39;00m \u001b[39mself\u001b[39m\u001b[39m.\u001b[39m_exception:\n\u001b[0;32m--> 266\u001b[0m     \u001b[39mraise\u001b[39;00m \u001b[39mself\u001b[39m\u001b[39m.\u001b[39m_exception\n\u001b[1;32m    267\u001b[0m \u001b[39mreturn\u001b[39;00m \u001b[39mself\u001b[39m\u001b[39m.\u001b[39m_result\n",
      "File \u001b[0;32m~/anaconda3/envs/captionKraftNov25/lib/python3.9/site-packages/ibm_s3transfer/tasks.py:269\u001b[0m, in \u001b[0;36mSubmissionTask._main\u001b[0;34m(self, transfer_future, **kwargs)\u001b[0m\n\u001b[1;32m    265\u001b[0m     \u001b[39mself\u001b[39m\u001b[39m.\u001b[39m_transfer_coordinator\u001b[39m.\u001b[39mset_status_to_running()\n\u001b[1;32m    267\u001b[0m     \u001b[39m# Call the submit method to start submitting tasks to execute the\u001b[39;00m\n\u001b[1;32m    268\u001b[0m     \u001b[39m# transfer.\u001b[39;00m\n\u001b[0;32m--> 269\u001b[0m     \u001b[39mself\u001b[39;49m\u001b[39m.\u001b[39;49m_submit(transfer_future\u001b[39m=\u001b[39;49mtransfer_future, \u001b[39m*\u001b[39;49m\u001b[39m*\u001b[39;49mkwargs)\n\u001b[1;32m    270\u001b[0m \u001b[39mexcept\u001b[39;00m \u001b[39mBaseException\u001b[39;00m \u001b[39mas\u001b[39;00m e:\n\u001b[1;32m    271\u001b[0m     \u001b[39m# If there was an exception raised during the submission of task\u001b[39;00m\n\u001b[1;32m    272\u001b[0m     \u001b[39m# there is a chance that the final task that signals if a transfer\u001b[39;00m\n\u001b[0;32m   (...)\u001b[0m\n\u001b[1;32m    281\u001b[0m \n\u001b[1;32m    282\u001b[0m     \u001b[39m# Set the exception, that caused the process to fail.\u001b[39;00m\n\u001b[1;32m    283\u001b[0m     \u001b[39mself\u001b[39m\u001b[39m.\u001b[39m_log_and_set_exception(e)\n",
      "File \u001b[0;32m~/anaconda3/envs/captionKraftNov25/lib/python3.9/site-packages/ibm_s3transfer/upload.py:599\u001b[0m, in \u001b[0;36mUploadSubmissionTask._submit\u001b[0;34m(self, client, config, osutil, request_executor, transfer_future, bandwidth_limiter)\u001b[0m\n\u001b[1;32m    597\u001b[0m \u001b[39m# Determine the size if it was not provided\u001b[39;00m\n\u001b[1;32m    598\u001b[0m \u001b[39mif\u001b[39;00m transfer_future\u001b[39m.\u001b[39mmeta\u001b[39m.\u001b[39msize \u001b[39mis\u001b[39;00m \u001b[39mNone\u001b[39;00m:\n\u001b[0;32m--> 599\u001b[0m     upload_input_manager\u001b[39m.\u001b[39;49mprovide_transfer_size(transfer_future)\n\u001b[1;32m    601\u001b[0m \u001b[39m# Do a multipart upload if needed, otherwise do a regular put object.\u001b[39;00m\n\u001b[1;32m    602\u001b[0m \u001b[39mif\u001b[39;00m \u001b[39mnot\u001b[39;00m upload_input_manager\u001b[39m.\u001b[39mrequires_multipart_upload(\n\u001b[1;32m    603\u001b[0m     transfer_future, config\n\u001b[1;32m    604\u001b[0m ):\n",
      "File \u001b[0;32m~/anaconda3/envs/captionKraftNov25/lib/python3.9/site-packages/ibm_s3transfer/upload.py:244\u001b[0m, in \u001b[0;36mUploadFilenameInputManager.provide_transfer_size\u001b[0;34m(self, transfer_future)\u001b[0m\n\u001b[1;32m    242\u001b[0m \u001b[39mdef\u001b[39;00m \u001b[39mprovide_transfer_size\u001b[39m(\u001b[39mself\u001b[39m, transfer_future):\n\u001b[1;32m    243\u001b[0m     transfer_future\u001b[39m.\u001b[39mmeta\u001b[39m.\u001b[39mprovide_transfer_size(\n\u001b[0;32m--> 244\u001b[0m         \u001b[39mself\u001b[39;49m\u001b[39m.\u001b[39;49m_osutil\u001b[39m.\u001b[39;49mget_file_size(transfer_future\u001b[39m.\u001b[39;49mmeta\u001b[39m.\u001b[39;49mcall_args\u001b[39m.\u001b[39;49mfileobj)\n\u001b[1;32m    245\u001b[0m     )\n",
      "File \u001b[0;32m~/anaconda3/envs/captionKraftNov25/lib/python3.9/site-packages/ibm_s3transfer/utils.py:250\u001b[0m, in \u001b[0;36mOSUtils.get_file_size\u001b[0;34m(self, filename)\u001b[0m\n\u001b[1;32m    249\u001b[0m \u001b[39mdef\u001b[39;00m \u001b[39mget_file_size\u001b[39m(\u001b[39mself\u001b[39m, filename):\n\u001b[0;32m--> 250\u001b[0m     \u001b[39mreturn\u001b[39;00m os\u001b[39m.\u001b[39;49mpath\u001b[39m.\u001b[39;49mgetsize(filename)\n",
      "File \u001b[0;32m~/anaconda3/envs/captionKraftNov25/lib/python3.9/genericpath.py:50\u001b[0m, in \u001b[0;36mgetsize\u001b[0;34m(filename)\u001b[0m\n\u001b[1;32m     48\u001b[0m \u001b[39mdef\u001b[39;00m \u001b[39mgetsize\u001b[39m(filename):\n\u001b[1;32m     49\u001b[0m \u001b[39m    \u001b[39m\u001b[39m\"\"\"Return the size of a file, reported by os.stat().\"\"\"\u001b[39;00m\n\u001b[0;32m---> 50\u001b[0m     \u001b[39mreturn\u001b[39;00m os\u001b[39m.\u001b[39;49mstat(filename)\u001b[39m.\u001b[39mst_size\n",
      "\u001b[0;31mFileNotFoundError\u001b[0m: [Errno 2] No such file or directory: 'local_file.txt'"
     ]
    }
   ],
   "source": [
    "from ibm_boto3 import client\n",
    "from ibm_botocore.client import Config\n",
    "import os\n",
    "from dotenv import load_dotenv\n",
    "\n",
    "# Load environment variables from .env file\n",
    "load_dotenv()\n",
    "\n",
    "# IBM COS Config\n",
    "COS_API_KEY = os.getenv(\"COS_API_KEY\")\n",
    "COS_INSTANCE_ID = os.getenv(\"COS_INSTANCE_ID\")\n",
    "COS_ENDPOINT = os.getenv(\"COS_ENDPOINT\")\n",
    "BUCKET_NAME = os.getenv(\"BUCKET_NAME\")\n",
    "\n",
    "# IBM COS credentials\n",
    "cos = client(\n",
    "    \"s3\",\n",
    "    ibm_api_key_id=COS_API_KEY,\n",
    "    ibm_service_instance_id=COS_INSTANCE_ID,\n",
    "    config=Config(signature_version=\"oauth\"),\n",
    "    endpoint_url=COS_ENDPOINT\n",
    ")\n",
    "\n",
    "# Upload a file\n",
    "cos.upload_file(Filename=\"local_file.txt\", Bucket=\"your-bucket-name\", Key=\"uploaded_file.txt\")\n",
    "print(\"File uploaded successfully!\")\n"
   ]
  },
  {
   "cell_type": "code",
   "execution_count": 2,
   "metadata": {},
   "outputs": [
    {
     "name": "stdout",
     "output_type": "stream",
     "text": [
      "\u001b[33mWARNING: Ignoring invalid distribution -ensorflow (/Users/rajatsharma/anaconda3/envs/captionKraftNov25/lib/python3.9/site-packages)\u001b[0m\u001b[33m\n",
      "\u001b[0mCollecting ibm-cos-sdk\n",
      "  Using cached ibm-cos-sdk-2.14.0.tar.gz (58 kB)\n",
      "  Preparing metadata (setup.py) ... \u001b[?25ldone\n",
      "\u001b[?25hCollecting ibm-cos-sdk-core==2.14.0 (from ibm-cos-sdk)\n",
      "  Using cached ibm-cos-sdk-core-2.14.0.tar.gz (1.1 MB)\n",
      "  Preparing metadata (setup.py) ... \u001b[?25ldone\n",
      "\u001b[?25hCollecting ibm-cos-sdk-s3transfer==2.14.0 (from ibm-cos-sdk)\n",
      "  Using cached ibm-cos-sdk-s3transfer-2.14.0.tar.gz (139 kB)\n",
      "  Preparing metadata (setup.py) ... \u001b[?25ldone\n",
      "\u001b[?25hRequirement already satisfied: jmespath<=1.0.1,>=0.10.0 in /Users/rajatsharma/anaconda3/envs/captionKraftNov25/lib/python3.9/site-packages (from ibm-cos-sdk) (1.0.1)\n",
      "Collecting python-dateutil<3.0.0,>=2.9.0 (from ibm-cos-sdk-core==2.14.0->ibm-cos-sdk)\n",
      "  Using cached python_dateutil-2.9.0.post0-py2.py3-none-any.whl.metadata (8.4 kB)\n",
      "Collecting requests<2.32.3,>=2.32.0 (from ibm-cos-sdk-core==2.14.0->ibm-cos-sdk)\n",
      "  Using cached requests-2.32.2-py3-none-any.whl.metadata (4.6 kB)\n",
      "Requirement already satisfied: urllib3<3,>=1.26.18 in /Users/rajatsharma/anaconda3/envs/captionKraftNov25/lib/python3.9/site-packages (from ibm-cos-sdk-core==2.14.0->ibm-cos-sdk) (1.26.18)\n",
      "Requirement already satisfied: six>=1.5 in /Users/rajatsharma/anaconda3/envs/captionKraftNov25/lib/python3.9/site-packages (from python-dateutil<3.0.0,>=2.9.0->ibm-cos-sdk-core==2.14.0->ibm-cos-sdk) (1.16.0)\n",
      "Requirement already satisfied: charset-normalizer<4,>=2 in /Users/rajatsharma/anaconda3/envs/captionKraftNov25/lib/python3.9/site-packages (from requests<2.32.3,>=2.32.0->ibm-cos-sdk-core==2.14.0->ibm-cos-sdk) (2.0.4)\n",
      "Requirement already satisfied: idna<4,>=2.5 in /Users/rajatsharma/anaconda3/envs/captionKraftNov25/lib/python3.9/site-packages (from requests<2.32.3,>=2.32.0->ibm-cos-sdk-core==2.14.0->ibm-cos-sdk) (3.4)\n",
      "Requirement already satisfied: certifi>=2017.4.17 in /Users/rajatsharma/anaconda3/envs/captionKraftNov25/lib/python3.9/site-packages (from requests<2.32.3,>=2.32.0->ibm-cos-sdk-core==2.14.0->ibm-cos-sdk) (2025.1.31)\n",
      "Using cached python_dateutil-2.9.0.post0-py2.py3-none-any.whl (229 kB)\n",
      "Using cached requests-2.32.2-py3-none-any.whl (63 kB)\n",
      "Building wheels for collected packages: ibm-cos-sdk, ibm-cos-sdk-core, ibm-cos-sdk-s3transfer\n",
      "  Building wheel for ibm-cos-sdk (setup.py) ... \u001b[?25ldone\n",
      "\u001b[?25h  Created wheel for ibm-cos-sdk: filename=ibm_cos_sdk-2.14.0-py3-none-any.whl size=77238 sha256=0e2f136eb1be524383b45f054f48ae6ccd568b2dcc596654221ad05243714959\n",
      "  Stored in directory: /Users/rajatsharma/Library/Caches/pip/wheels/c5/ca/66/46c52f8fabc0ce045cd6fc6299631474ac4a0778bbcc818a91\n",
      "  Building wheel for ibm-cos-sdk-core (setup.py) ... \u001b[?25ldone\n",
      "\u001b[?25h  Created wheel for ibm-cos-sdk-core: filename=ibm_cos_sdk_core-2.14.0-py3-none-any.whl size=661731 sha256=4e4fc5e2340b15266fdc8b8bc1fb2d74ac22acf43e000971c7b0d99e79c09ec1\n",
      "  Stored in directory: /Users/rajatsharma/Library/Caches/pip/wheels/e4/ba/8f/1d1391594852a7811bdec24202783f347001f061615f180826\n",
      "  Building wheel for ibm-cos-sdk-s3transfer (setup.py) ... \u001b[?25ldone\n",
      "\u001b[?25h  Created wheel for ibm-cos-sdk-s3transfer: filename=ibm_cos_sdk_s3transfer-2.14.0-py3-none-any.whl size=90213 sha256=f29d095e3e961f530696e9ace9b44b7a02bd9be31c06f98c6240687a7509e5a8\n",
      "  Stored in directory: /Users/rajatsharma/Library/Caches/pip/wheels/e5/5b/22/234a6005af63207467e2a6480c2f735a65e01115ba4d87bd36\n",
      "Successfully built ibm-cos-sdk ibm-cos-sdk-core ibm-cos-sdk-s3transfer\n",
      "\u001b[33mWARNING: Ignoring invalid distribution -ensorflow (/Users/rajatsharma/anaconda3/envs/captionKraftNov25/lib/python3.9/site-packages)\u001b[0m\u001b[33m\n",
      "\u001b[0mInstalling collected packages: requests, python-dateutil, ibm-cos-sdk-core, ibm-cos-sdk-s3transfer, ibm-cos-sdk\n",
      "  Attempting uninstall: requests\n",
      "    Found existing installation: requests 2.32.3\n",
      "    Uninstalling requests-2.32.3:\n",
      "      Successfully uninstalled requests-2.32.3\n",
      "  Attempting uninstall: python-dateutil\n",
      "    Found existing installation: python-dateutil 2.8.2\n",
      "    Uninstalling python-dateutil-2.8.2:\n",
      "      Successfully uninstalled python-dateutil-2.8.2\n",
      "\u001b[31mERROR: pip's dependency resolver does not currently take into account all the packages that are installed. This behaviour is the source of the following dependency conflicts.\n",
      "datasets 3.0.1 requires tqdm>=4.66.3, but you have tqdm 4.66.2 which is incompatible.\u001b[0m\u001b[31m\n",
      "\u001b[0mSuccessfully installed ibm-cos-sdk-2.14.0 ibm-cos-sdk-core-2.14.0 ibm-cos-sdk-s3transfer-2.14.0 python-dateutil-2.9.0.post0 requests-2.32.2\n"
     ]
    }
   ],
   "source": [
    "!pip install ibm-cos-sdk\n"
   ]
  },
  {
   "cell_type": "code",
   "execution_count": null,
   "metadata": {},
   "outputs": [],
   "source": []
  }
 ],
 "metadata": {
  "kernelspec": {
   "display_name": "captionKraftNov25",
   "language": "python",
   "name": "python3"
  },
  "language_info": {
   "codemirror_mode": {
    "name": "ipython",
    "version": 3
   },
   "file_extension": ".py",
   "mimetype": "text/x-python",
   "name": "python",
   "nbconvert_exporter": "python",
   "pygments_lexer": "ipython3",
   "version": "3.9.7"
  },
  "orig_nbformat": 4
 },
 "nbformat": 4,
 "nbformat_minor": 2
}
