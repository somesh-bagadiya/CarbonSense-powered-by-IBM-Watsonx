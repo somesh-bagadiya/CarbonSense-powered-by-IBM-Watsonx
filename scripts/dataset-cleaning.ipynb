{
 "cells": [
  {
   "cell_type": "code",
   "execution_count": 14,
   "metadata": {},
   "outputs": [],
   "source": [
    "import pandas as pd \n",
    "\n",
    "import numpy as np\n"
   ]
  },
  {
   "cell_type": "code",
   "execution_count": 15,
   "metadata": {},
   "outputs": [],
   "source": [
    "pd.set_option('display.max_rows', None)"
   ]
  },
  {
   "cell_type": "code",
   "execution_count": 16,
   "metadata": {},
   "outputs": [],
   "source": [
    "#read agricultural.xslx data in dataframe\n",
    "\n",
    "df = pd.read_excel('/Users/rajatsharma/IBM-CarbonSense-powered-by-Watsonx/Data_processed/industry/agriculture.xlsx')\n"
   ]
  },
  {
   "cell_type": "code",
   "execution_count": 17,
   "metadata": {},
   "outputs": [],
   "source": [
    "#list al;l columns in the dataframe\n",
    "columns = df.columns.tolist()\n"
   ]
  },
  {
   "cell_type": "code",
   "execution_count": 19,
   "metadata": {},
   "outputs": [
    {
     "data": {
      "text/plain": [
       "101"
      ]
     },
     "execution_count": 19,
     "metadata": {},
     "output_type": "execute_result"
    }
   ],
   "source": [
    "len(columns)"
   ]
  },
  {
   "cell_type": "code",
   "execution_count": 7,
   "metadata": {},
   "outputs": [],
   "source": [
    "null_percentage = df.isnull().mean() * 100\n",
    "# print(null_percentage.sort_values(ascending=False))"
   ]
  },
  {
   "cell_type": "code",
   "execution_count": 6,
   "metadata": {},
   "outputs": [],
   "source": [
    "import pandas as pd\n",
    "\n",
    "def clean_dataset(df, null_threshold=1.0):\n",
    "\n",
    "    missing_percent = df.isnull().mean()\n",
    "    to_drop = missing_percent[missing_percent >= null_threshold].index.tolist()\n",
    "    df_cleaned = df.drop(columns=to_drop)\n",
    "    \n",
    "    df_cleaned.columns = (\n",
    "        df_cleaned.columns\n",
    "        .str.strip()\n",
    "        .str.lower()\n",
    "        .str.replace(r'[\\s\\.,]+', '_', regex=True)\n",
    "    )\n",
    "\n",
    "    return df_cleaned, to_drop\n"
   ]
  },
  {
   "cell_type": "code",
   "execution_count": 9,
   "metadata": {},
   "outputs": [],
   "source": [
    "clean_df, dropped_cols = clean_dataset(df)"
   ]
  },
  {
   "cell_type": "code",
   "execution_count": 12,
   "metadata": {},
   "outputs": [
    {
     "name": "stdout",
     "output_type": "stream",
     "text": [
      "Columns to drop due to high correlation: ['eco-costs of.3', 'unnamed: 11', 'unnamed: 13', 'unnamed: 14', 'human', 'ecotoxicity', 'metals', 'fossil tra', 'carbon', 'non-renewable.1', 'renewable.2', 'recipe2016', 'recipe', 'recipe.1', 'recipe.2', 'recipe.3', 'recipe.4', 'recipe.5', 'global warming,', 'global warming, .1', 'global warming, .2', 'ozone formation,', 'fine particulate', 'ozone formation, .1', 'terrestrial', 'freshwater', 'marine.1', 'human .1', 'mineral resource', 'fossil resource', 'water consumption,.1', 'water consumption, .1', 'ef 3.1', 'acidification', 'climate change', 'ecotoxicity.1', 'particulate', 'eutrophication,', 'eutrophication, .1', 'eutrophication,.1', 'human toxicity,', 'human toxicity, non-cancer', 'land use.1', 'photochemical ozone formation', 'resource use,', 'resource use,.1', 'water use', 'traci', 'traci.1', 'traci.3', 'traci.4', 'traci.5', 'traci.6', 'traci.7', 'traci.8', 'traci.9', 'carbon.1', 'pollutants', 'water', 'biodiversity.1', 'resources']\n"
     ]
    }
   ],
   "source": [
    "import numpy as np\n",
    "\n",
    "\n",
    "numeric_df = df.select_dtypes(include=[np.number])\n",
    "corr_matrix = numeric_df.corr().abs()\n",
    "\n",
    "upper = corr_matrix.where(np.triu(np.ones(corr_matrix.shape), k=1).astype(bool))\n",
    "\n",
    "\n",
    "to_drop = [column for column in upper.columns if any(upper[column] > 0.9)]\n",
    "print(\"Columns to drop due to high correlation:\", to_drop)\n"
   ]
  },
  {
   "cell_type": "code",
   "execution_count": null,
   "metadata": {},
   "outputs": [],
   "source": [
    "# drop the columns\n",
    "df.drop(columns=to_drop, inplace=True)\n"
   ]
  },
  {
   "cell_type": "code",
   "execution_count": 13,
   "metadata": {},
   "outputs": [
    {
     "data": {
      "text/html": [
       "<div>\n",
       "<style scoped>\n",
       "    .dataframe tbody tr th:only-of-type {\n",
       "        vertical-align: middle;\n",
       "    }\n",
       "\n",
       "    .dataframe tbody tr th {\n",
       "        vertical-align: top;\n",
       "    }\n",
       "\n",
       "    .dataframe thead th {\n",
       "        text-align: right;\n",
       "    }\n",
       "</style>\n",
       "<table border=\"1\" class=\"dataframe\">\n",
       "  <thead>\n",
       "    <tr style=\"text-align: right;\">\n",
       "      <th></th>\n",
       "      <th>total</th>\n",
       "      <th>eco-costs of</th>\n",
       "      <th>eco-costs of.1</th>\n",
       "      <th>eco-costs of.2</th>\n",
       "      <th>eco-costs of.3</th>\n",
       "      <th>unnamed: 11</th>\n",
       "      <th>unnamed: 12</th>\n",
       "      <th>unnamed: 13</th>\n",
       "      <th>unnamed: 14</th>\n",
       "      <th>human</th>\n",
       "      <th>...</th>\n",
       "      <th>pollutants</th>\n",
       "      <th>water</th>\n",
       "      <th>biodiversity.1</th>\n",
       "      <th>resources</th>\n",
       "      <th>classyfire</th>\n",
       "      <th>chemicals,plastics, and wood</th>\n",
       "      <th>note:</th>\n",
       "      <th>unnamed: 107</th>\n",
       "      <th>unnamed: 110</th>\n",
       "      <th>unnamed: 118</th>\n",
       "    </tr>\n",
       "  </thead>\n",
       "  <tbody>\n",
       "    <tr>\n",
       "      <th>0</th>\n",
       "      <td>6.047973</td>\n",
       "      <td>1.364848</td>\n",
       "      <td>1.088735</td>\n",
       "      <td>1.207723</td>\n",
       "      <td>2.386666</td>\n",
       "      <td>0.415316</td>\n",
       "      <td>0.180308</td>\n",
       "      <td>0.521822</td>\n",
       "      <td>0.287599</td>\n",
       "      <td>0.524483</td>\n",
       "      <td>...</td>\n",
       "      <td>2.410833</td>\n",
       "      <td>1.057650</td>\n",
       "      <td>1.088735</td>\n",
       "      <td>1.196057</td>\n",
       "      <td>NaN</td>\n",
       "      <td>NaN</td>\n",
       "      <td>NaN</td>\n",
       "      <td>NaN</td>\n",
       "      <td>NaN</td>\n",
       "      <td>NaN</td>\n",
       "    </tr>\n",
       "    <tr>\n",
       "      <th>1</th>\n",
       "      <td>3.038588</td>\n",
       "      <td>0.173343</td>\n",
       "      <td>0.126751</td>\n",
       "      <td>0.043407</td>\n",
       "      <td>2.695087</td>\n",
       "      <td>0.078182</td>\n",
       "      <td>0.041646</td>\n",
       "      <td>0.043864</td>\n",
       "      <td>0.128282</td>\n",
       "      <td>0.000387</td>\n",
       "      <td>...</td>\n",
       "      <td>0.297146</td>\n",
       "      <td>0.123808</td>\n",
       "      <td>0.126751</td>\n",
       "      <td>0.043402</td>\n",
       "      <td>NaN</td>\n",
       "      <td>NaN</td>\n",
       "      <td>NaN</td>\n",
       "      <td>NaN</td>\n",
       "      <td>NaN</td>\n",
       "      <td>NaN</td>\n",
       "    </tr>\n",
       "    <tr>\n",
       "      <th>2</th>\n",
       "      <td>12.144220</td>\n",
       "      <td>0.025574</td>\n",
       "      <td>0.061824</td>\n",
       "      <td>0.344770</td>\n",
       "      <td>11.712053</td>\n",
       "      <td>0.030038</td>\n",
       "      <td>0.020856</td>\n",
       "      <td>0.013129</td>\n",
       "      <td>0.002118</td>\n",
       "      <td>0.000309</td>\n",
       "      <td>...</td>\n",
       "      <td>0.084937</td>\n",
       "      <td>0.059364</td>\n",
       "      <td>0.061824</td>\n",
       "      <td>0.344769</td>\n",
       "      <td>NaN</td>\n",
       "      <td>NaN</td>\n",
       "      <td>NaN</td>\n",
       "      <td>NaN</td>\n",
       "      <td>NaN</td>\n",
       "      <td>NaN</td>\n",
       "    </tr>\n",
       "    <tr>\n",
       "      <th>3</th>\n",
       "      <td>12.056206</td>\n",
       "      <td>0.024480</td>\n",
       "      <td>0.050508</td>\n",
       "      <td>0.317136</td>\n",
       "      <td>11.664082</td>\n",
       "      <td>0.019530</td>\n",
       "      <td>0.020124</td>\n",
       "      <td>0.012227</td>\n",
       "      <td>0.001963</td>\n",
       "      <td>0.000305</td>\n",
       "      <td>...</td>\n",
       "      <td>0.072592</td>\n",
       "      <td>0.048114</td>\n",
       "      <td>0.050508</td>\n",
       "      <td>0.317135</td>\n",
       "      <td>NaN</td>\n",
       "      <td>NaN</td>\n",
       "      <td>NaN</td>\n",
       "      <td>NaN</td>\n",
       "      <td>NaN</td>\n",
       "      <td>NaN</td>\n",
       "    </tr>\n",
       "    <tr>\n",
       "      <th>4</th>\n",
       "      <td>6.028103</td>\n",
       "      <td>0.012240</td>\n",
       "      <td>0.025254</td>\n",
       "      <td>0.158568</td>\n",
       "      <td>5.832041</td>\n",
       "      <td>0.009765</td>\n",
       "      <td>0.010062</td>\n",
       "      <td>0.006114</td>\n",
       "      <td>0.000981</td>\n",
       "      <td>0.000153</td>\n",
       "      <td>...</td>\n",
       "      <td>0.036296</td>\n",
       "      <td>0.024057</td>\n",
       "      <td>0.025254</td>\n",
       "      <td>0.158567</td>\n",
       "      <td>NaN</td>\n",
       "      <td>NaN</td>\n",
       "      <td>NaN</td>\n",
       "      <td>NaN</td>\n",
       "      <td>NaN</td>\n",
       "      <td>NaN</td>\n",
       "    </tr>\n",
       "  </tbody>\n",
       "</table>\n",
       "<p>5 rows × 93 columns</p>\n",
       "</div>"
      ],
      "text/plain": [
       "       total  eco-costs of  eco-costs of.1  eco-costs of.2  eco-costs of.3  \\\n",
       "0   6.047973      1.364848        1.088735        1.207723        2.386666   \n",
       "1   3.038588      0.173343        0.126751        0.043407        2.695087   \n",
       "2  12.144220      0.025574        0.061824        0.344770       11.712053   \n",
       "3  12.056206      0.024480        0.050508        0.317136       11.664082   \n",
       "4   6.028103      0.012240        0.025254        0.158568        5.832041   \n",
       "\n",
       "   unnamed: 11  unnamed: 12  unnamed: 13  unnamed: 14     human  ...  \\\n",
       "0     0.415316     0.180308     0.521822     0.287599  0.524483  ...   \n",
       "1     0.078182     0.041646     0.043864     0.128282  0.000387  ...   \n",
       "2     0.030038     0.020856     0.013129     0.002118  0.000309  ...   \n",
       "3     0.019530     0.020124     0.012227     0.001963  0.000305  ...   \n",
       "4     0.009765     0.010062     0.006114     0.000981  0.000153  ...   \n",
       "\n",
       "   pollutants     water  biodiversity.1  resources  classyfire  \\\n",
       "0    2.410833  1.057650        1.088735   1.196057         NaN   \n",
       "1    0.297146  0.123808        0.126751   0.043402         NaN   \n",
       "2    0.084937  0.059364        0.061824   0.344769         NaN   \n",
       "3    0.072592  0.048114        0.050508   0.317135         NaN   \n",
       "4    0.036296  0.024057        0.025254   0.158567         NaN   \n",
       "\n",
       "   chemicals,plastics, and wood  note:  unnamed: 107  unnamed: 110  \\\n",
       "0                           NaN    NaN           NaN           NaN   \n",
       "1                           NaN    NaN           NaN           NaN   \n",
       "2                           NaN    NaN           NaN           NaN   \n",
       "3                           NaN    NaN           NaN           NaN   \n",
       "4                           NaN    NaN           NaN           NaN   \n",
       "\n",
       "   unnamed: 118  \n",
       "0           NaN  \n",
       "1           NaN  \n",
       "2           NaN  \n",
       "3           NaN  \n",
       "4           NaN  \n",
       "\n",
       "[5 rows x 93 columns]"
      ]
     },
     "execution_count": 13,
     "metadata": {},
     "output_type": "execute_result"
    }
   ],
   "source": [
    "numeric_df.head()"
   ]
  },
  {
   "cell_type": "code",
   "execution_count": null,
   "metadata": {},
   "outputs": [],
   "source": []
  },
  {
   "cell_type": "code",
   "execution_count": 20,
   "metadata": {},
   "outputs": [],
   "source": [
    "# remove all columns except carbon and resource use\n",
    "columns_to_keep = ['.', 'industry', '..2', 'unit', 'process','total', 'carbon', 'ced', 'region']\n",
    "columns_to_remove = [col for col in columns if col not in columns_to_keep]"
   ]
  },
  {
   "cell_type": "code",
   "execution_count": 21,
   "metadata": {},
   "outputs": [],
   "source": [
    "# columns_to_remove "
   ]
  },
  {
   "cell_type": "code",
   "execution_count": null,
   "metadata": {},
   "outputs": [],
   "source": [
    "# determine what columns to remove\n"
   ]
  },
  {
   "cell_type": "code",
   "execution_count": 22,
   "metadata": {},
   "outputs": [],
   "source": [
    "# drop the columns \n",
    "df.drop(columns=columns_to_remove, inplace=True)\n"
   ]
  },
  {
   "cell_type": "code",
   "execution_count": 23,
   "metadata": {},
   "outputs": [
    {
     "data": {
      "text/html": [
       "<div>\n",
       "<style scoped>\n",
       "    .dataframe tbody tr th:only-of-type {\n",
       "        vertical-align: middle;\n",
       "    }\n",
       "\n",
       "    .dataframe tbody tr th {\n",
       "        vertical-align: top;\n",
       "    }\n",
       "\n",
       "    .dataframe thead th {\n",
       "        text-align: right;\n",
       "    }\n",
       "</style>\n",
       "<table border=\"1\" class=\"dataframe\">\n",
       "  <thead>\n",
       "    <tr style=\"text-align: right;\">\n",
       "      <th></th>\n",
       "      <th>.</th>\n",
       "      <th>industry</th>\n",
       "      <th>..2</th>\n",
       "      <th>unit</th>\n",
       "      <th>process</th>\n",
       "      <th>total</th>\n",
       "      <th>carbon</th>\n",
       "      <th>ced</th>\n",
       "      <th>region</th>\n",
       "    </tr>\n",
       "  </thead>\n",
       "  <tbody>\n",
       "    <tr>\n",
       "      <th>0</th>\n",
       "      <td>A.010.02.101.240318 Leather Chrome tanning - h...</td>\n",
       "      <td>agriculture</td>\n",
       "      <td>Materials, agricultural, animal production</td>\n",
       "      <td>kg</td>\n",
       "      <td>Leather Chrome tanning - hides from Argentia</td>\n",
       "      <td>6.047973</td>\n",
       "      <td>15.911109</td>\n",
       "      <td>115.593600</td>\n",
       "      <td>Global</td>\n",
       "    </tr>\n",
       "    <tr>\n",
       "      <th>1</th>\n",
       "      <td>A.010.02.102.240318 Leather Vegetable tanning ...</td>\n",
       "      <td>agriculture</td>\n",
       "      <td>Materials, agricultural, animal production</td>\n",
       "      <td>kg</td>\n",
       "      <td>Leather Vegetable tanning - hides from Europe</td>\n",
       "      <td>3.038588</td>\n",
       "      <td>17.967245</td>\n",
       "      <td>94.793388</td>\n",
       "      <td>Global</td>\n",
       "    </tr>\n",
       "    <tr>\n",
       "      <th>2</th>\n",
       "      <td>A.010.02.103.230701 Wool (from Australia trans...</td>\n",
       "      <td>agriculture</td>\n",
       "      <td>Materials, agricultural, animal production</td>\n",
       "      <td>kg</td>\n",
       "      <td>Wool (from Australia transported to Rotterdam)</td>\n",
       "      <td>12.144220</td>\n",
       "      <td>78.080353</td>\n",
       "      <td>61.672334</td>\n",
       "      <td>Global</td>\n",
       "    </tr>\n",
       "    <tr>\n",
       "      <th>3</th>\n",
       "      <td>A.010.02.104.230701 Wool at farm Australia</td>\n",
       "      <td>agriculture</td>\n",
       "      <td>Materials, agricultural, animal production</td>\n",
       "      <td>kg</td>\n",
       "      <td>Wool at farm Australia</td>\n",
       "      <td>12.056206</td>\n",
       "      <td>77.760547</td>\n",
       "      <td>57.456901</td>\n",
       "      <td>Global</td>\n",
       "    </tr>\n",
       "    <tr>\n",
       "      <th>4</th>\n",
       "      <td>A.010.02.105.230701 wool, greasy, at farm Aust...</td>\n",
       "      <td>agriculture</td>\n",
       "      <td>Materials, agricultural, animal production</td>\n",
       "      <td>kg</td>\n",
       "      <td>wool, greasy, at farm Australia</td>\n",
       "      <td>6.028103</td>\n",
       "      <td>38.880273</td>\n",
       "      <td>28.728451</td>\n",
       "      <td>Global</td>\n",
       "    </tr>\n",
       "  </tbody>\n",
       "</table>\n",
       "</div>"
      ],
      "text/plain": [
       "                                                   .     industry  \\\n",
       "0  A.010.02.101.240318 Leather Chrome tanning - h...  agriculture   \n",
       "1  A.010.02.102.240318 Leather Vegetable tanning ...  agriculture   \n",
       "2  A.010.02.103.230701 Wool (from Australia trans...  agriculture   \n",
       "3         A.010.02.104.230701 Wool at farm Australia  agriculture   \n",
       "4  A.010.02.105.230701 wool, greasy, at farm Aust...  agriculture   \n",
       "\n",
       "                                          ..2 unit  \\\n",
       "0  Materials, agricultural, animal production  kg    \n",
       "1  Materials, agricultural, animal production  kg    \n",
       "2  Materials, agricultural, animal production  kg    \n",
       "3  Materials, agricultural, animal production  kg    \n",
       "4  Materials, agricultural, animal production  kg    \n",
       "\n",
       "                                          process      total     carbon  \\\n",
       "0    Leather Chrome tanning - hides from Argentia   6.047973  15.911109   \n",
       "1   Leather Vegetable tanning - hides from Europe   3.038588  17.967245   \n",
       "2  Wool (from Australia transported to Rotterdam)  12.144220  78.080353   \n",
       "3                          Wool at farm Australia  12.056206  77.760547   \n",
       "4                 wool, greasy, at farm Australia   6.028103  38.880273   \n",
       "\n",
       "          ced  region  \n",
       "0  115.593600  Global  \n",
       "1   94.793388  Global  \n",
       "2   61.672334  Global  \n",
       "3   57.456901  Global  \n",
       "4   28.728451  Global  "
      ]
     },
     "execution_count": 23,
     "metadata": {},
     "output_type": "execute_result"
    }
   ],
   "source": [
    "df.head()\n"
   ]
  },
  {
   "cell_type": "code",
   "execution_count": 24,
   "metadata": {},
   "outputs": [],
   "source": [
    "# save the df into the same file name\n",
    "df.to_excel('/Users/rajatsharma/IBM-CarbonSense-powered-by-Watsonx/Data_processed/industry/agriculture.xlsx', index=False)"
   ]
  },
  {
   "cell_type": "code",
   "execution_count": 29,
   "metadata": {},
   "outputs": [
    {
     "name": "stdout",
     "output_type": "stream",
     "text": [
      "✅ Processed: electricity USA.xlsx\n",
      "✅ Processed: electricity Canada.xlsx\n",
      "✅ Processed: electricity general industry.xlsx\n",
      "✅ Processed: electricity China.xlsx\n",
      "✅ Processed: electricity EU .xlsx\n",
      "✅ Processed: electricity Rest of the World.xlsx\n",
      "✅ Processed: electricity India.xlsx\n"
     ]
    }
   ],
   "source": [
    "import pandas as pd\n",
    "import os\n",
    "\n",
    "def filter_industry_files(folder_path):\n",
    "    # Columns to keep\n",
    "    columns_to_keep = ['.', 'industry', '..2', 'process', 'carbon', 'region']\n",
    "\n",
    "    # Loop through each file\n",
    "    for filename in os.listdir(folder_path):\n",
    "        if filename.endswith('.xlsx') and not filename.startswith('~$') and not filename.startswith('.'):\n",
    "            file_path = os.path.join(folder_path, filename)\n",
    "\n",
    "            try:\n",
    "                # Read the Excel file with engine specified\n",
    "                df = pd.read_excel(file_path, engine='openpyxl')\n",
    "\n",
    "                # Filter columns\n",
    "                df_filtered = df[[col for col in df.columns if col in columns_to_keep]]\n",
    "\n",
    "                # Save filtered DataFrame\n",
    "                df_filtered.to_excel(file_path, index=False, engine='openpyxl')\n",
    "                print(f\"✅ Processed: {filename}\")\n",
    "\n",
    "            except Exception as e:\n",
    "                print(f\"❌ Failed to process {filename}: {e}\")\n",
    "\n",
    "# Example usage\n",
    "filter_industry_files('/Users/rajatsharma/IBM-CarbonSense-powered-by-Watsonx/Data_processed/electricity/')\n"
   ]
  },
  {
   "cell_type": "code",
   "execution_count": null,
   "metadata": {},
   "outputs": [],
   "source": []
  }
 ],
 "metadata": {
  "kernelspec": {
   "display_name": "captionKraftNov25",
   "language": "python",
   "name": "python3"
  },
  "language_info": {
   "codemirror_mode": {
    "name": "ipython",
    "version": 3
   },
   "file_extension": ".py",
   "mimetype": "text/x-python",
   "name": "python",
   "nbconvert_exporter": "python",
   "pygments_lexer": "ipython3",
   "version": "3.9.7"
  },
  "orig_nbformat": 4
 },
 "nbformat": 4,
 "nbformat_minor": 2
}
