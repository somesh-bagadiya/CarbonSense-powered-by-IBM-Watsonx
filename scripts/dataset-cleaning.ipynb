{
 "cells": [
  {
   "cell_type": "code",
   "execution_count": 1,
   "metadata": {},
   "outputs": [],
   "source": [
    "import pandas as pd \n",
    "\n",
    "import numpy as np\n"
   ]
  },
  {
   "cell_type": "code",
   "execution_count": 2,
   "metadata": {},
   "outputs": [],
   "source": [
    "pd.set_option('display.max_rows', None)"
   ]
  },
  {
   "cell_type": "code",
   "execution_count": 3,
   "metadata": {},
   "outputs": [],
   "source": [
    "#read agricultural.xslx data in dataframe\n",
    "\n",
    "df = pd.read_excel('/Users/rajatsharma/IBM-CarbonSense-powered-by-Watsonx/Data_processed/industry/agriculture.xlsx')\n"
   ]
  },
  {
   "cell_type": "code",
   "execution_count": 4,
   "metadata": {},
   "outputs": [],
   "source": [
    "#list al;l columns in the dataframe\n",
    "columns = df.columns.tolist()\n"
   ]
  },
  {
   "cell_type": "code",
   "execution_count": 5,
   "metadata": {},
   "outputs": [
    {
     "data": {
      "text/plain": [
       "['Industry', 'Unit', 'Process', 'Total MJ', 'Carbon MJ', 'CED MJ', 'Region']"
      ]
     },
     "execution_count": 5,
     "metadata": {},
     "output_type": "execute_result"
    }
   ],
   "source": [
    "columns"
   ]
  },
  {
   "cell_type": "code",
   "execution_count": 6,
   "metadata": {},
   "outputs": [
    {
     "data": {
      "text/plain": [
       "7"
      ]
     },
     "execution_count": 6,
     "metadata": {},
     "output_type": "execute_result"
    }
   ],
   "source": [
    "#number of columns in the dataframe\n",
    "num_columns = len(columns)\n",
    "num_columns"
   ]
  },
  {
   "cell_type": "code",
   "execution_count": 11,
   "metadata": {},
   "outputs": [],
   "source": [
    "\n",
    "columns_to_keep = ['industry', 'unit','process','total','carbon','ced', 'region']\n"
   ]
  },
  {
   "cell_type": "code",
   "execution_count": 10,
   "metadata": {},
   "outputs": [
    {
     "ename": "KeyError",
     "evalue": "\"None of [Index(['industry', 'unit', 'process', 'total', 'carbon', 'ced', 'region'], dtype='object')] are in the [columns]\"",
     "output_type": "error",
     "traceback": [
      "\u001b[0;31m---------------------------------------------------------------------------\u001b[0m",
      "\u001b[0;31mKeyError\u001b[0m                                  Traceback (most recent call last)",
      "Cell \u001b[0;32mIn[10], line 2\u001b[0m\n\u001b[1;32m      1\u001b[0m \u001b[39m# replace current file with only the columns to keep\u001b[39;00m\n\u001b[0;32m----> 2\u001b[0m df \u001b[39m=\u001b[39m df[columns_to_keep]\n",
      "File \u001b[0;32m~/anaconda3/envs/captionKraftNov25/lib/python3.9/site-packages/pandas/core/frame.py:4108\u001b[0m, in \u001b[0;36mDataFrame.__getitem__\u001b[0;34m(self, key)\u001b[0m\n\u001b[1;32m   4106\u001b[0m     \u001b[39mif\u001b[39;00m is_iterator(key):\n\u001b[1;32m   4107\u001b[0m         key \u001b[39m=\u001b[39m \u001b[39mlist\u001b[39m(key)\n\u001b[0;32m-> 4108\u001b[0m     indexer \u001b[39m=\u001b[39m \u001b[39mself\u001b[39;49m\u001b[39m.\u001b[39;49mcolumns\u001b[39m.\u001b[39;49m_get_indexer_strict(key, \u001b[39m\"\u001b[39;49m\u001b[39mcolumns\u001b[39;49m\u001b[39m\"\u001b[39;49m)[\u001b[39m1\u001b[39m]\n\u001b[1;32m   4110\u001b[0m \u001b[39m# take() does not accept boolean indexers\u001b[39;00m\n\u001b[1;32m   4111\u001b[0m \u001b[39mif\u001b[39;00m \u001b[39mgetattr\u001b[39m(indexer, \u001b[39m\"\u001b[39m\u001b[39mdtype\u001b[39m\u001b[39m\"\u001b[39m, \u001b[39mNone\u001b[39;00m) \u001b[39m==\u001b[39m \u001b[39mbool\u001b[39m:\n",
      "File \u001b[0;32m~/anaconda3/envs/captionKraftNov25/lib/python3.9/site-packages/pandas/core/indexes/base.py:6200\u001b[0m, in \u001b[0;36mIndex._get_indexer_strict\u001b[0;34m(self, key, axis_name)\u001b[0m\n\u001b[1;32m   6197\u001b[0m \u001b[39melse\u001b[39;00m:\n\u001b[1;32m   6198\u001b[0m     keyarr, indexer, new_indexer \u001b[39m=\u001b[39m \u001b[39mself\u001b[39m\u001b[39m.\u001b[39m_reindex_non_unique(keyarr)\n\u001b[0;32m-> 6200\u001b[0m \u001b[39mself\u001b[39;49m\u001b[39m.\u001b[39;49m_raise_if_missing(keyarr, indexer, axis_name)\n\u001b[1;32m   6202\u001b[0m keyarr \u001b[39m=\u001b[39m \u001b[39mself\u001b[39m\u001b[39m.\u001b[39mtake(indexer)\n\u001b[1;32m   6203\u001b[0m \u001b[39mif\u001b[39;00m \u001b[39misinstance\u001b[39m(key, Index):\n\u001b[1;32m   6204\u001b[0m     \u001b[39m# GH 42790 - Preserve name from an Index\u001b[39;00m\n",
      "File \u001b[0;32m~/anaconda3/envs/captionKraftNov25/lib/python3.9/site-packages/pandas/core/indexes/base.py:6249\u001b[0m, in \u001b[0;36mIndex._raise_if_missing\u001b[0;34m(self, key, indexer, axis_name)\u001b[0m\n\u001b[1;32m   6247\u001b[0m \u001b[39mif\u001b[39;00m nmissing:\n\u001b[1;32m   6248\u001b[0m     \u001b[39mif\u001b[39;00m nmissing \u001b[39m==\u001b[39m \u001b[39mlen\u001b[39m(indexer):\n\u001b[0;32m-> 6249\u001b[0m         \u001b[39mraise\u001b[39;00m \u001b[39mKeyError\u001b[39;00m(\u001b[39mf\u001b[39m\u001b[39m\"\u001b[39m\u001b[39mNone of [\u001b[39m\u001b[39m{\u001b[39;00mkey\u001b[39m}\u001b[39;00m\u001b[39m] are in the [\u001b[39m\u001b[39m{\u001b[39;00maxis_name\u001b[39m}\u001b[39;00m\u001b[39m]\u001b[39m\u001b[39m\"\u001b[39m)\n\u001b[1;32m   6251\u001b[0m     not_found \u001b[39m=\u001b[39m \u001b[39mlist\u001b[39m(ensure_index(key)[missing_mask\u001b[39m.\u001b[39mnonzero()[\u001b[39m0\u001b[39m]]\u001b[39m.\u001b[39munique())\n\u001b[1;32m   6252\u001b[0m     \u001b[39mraise\u001b[39;00m \u001b[39mKeyError\u001b[39;00m(\u001b[39mf\u001b[39m\u001b[39m\"\u001b[39m\u001b[39m{\u001b[39;00mnot_found\u001b[39m}\u001b[39;00m\u001b[39m not in index\u001b[39m\u001b[39m\"\u001b[39m)\n",
      "\u001b[0;31mKeyError\u001b[0m: \"None of [Index(['industry', 'unit', 'process', 'total', 'carbon', 'ced', 'region'], dtype='object')] are in the [columns]\""
     ]
    }
   ],
   "source": [
    "# replace current file with only the columns to keep\n",
    "df = df[columns_to_keep]\n"
   ]
  },
  {
   "cell_type": "code",
   "execution_count": 13,
   "metadata": {},
   "outputs": [],
   "source": [
    "\n"
   ]
  },
  {
   "cell_type": "code",
   "execution_count": 12,
   "metadata": {},
   "outputs": [
    {
     "data": {
      "text/html": [
       "<div>\n",
       "<style scoped>\n",
       "    .dataframe tbody tr th:only-of-type {\n",
       "        vertical-align: middle;\n",
       "    }\n",
       "\n",
       "    .dataframe tbody tr th {\n",
       "        vertical-align: top;\n",
       "    }\n",
       "\n",
       "    .dataframe thead th {\n",
       "        text-align: right;\n",
       "    }\n",
       "</style>\n",
       "<table border=\"1\" class=\"dataframe\">\n",
       "  <thead>\n",
       "    <tr style=\"text-align: right;\">\n",
       "      <th></th>\n",
       "      <th>Industry</th>\n",
       "      <th>Unit</th>\n",
       "      <th>Process</th>\n",
       "      <th>Total MJ</th>\n",
       "      <th>Carbon MJ</th>\n",
       "      <th>CED MJ</th>\n",
       "      <th>Region</th>\n",
       "    </tr>\n",
       "  </thead>\n",
       "  <tbody>\n",
       "    <tr>\n",
       "      <th>0</th>\n",
       "      <td>agriculture</td>\n",
       "      <td>kg</td>\n",
       "      <td>Leather Chrome tanning - hides from Argentia</td>\n",
       "      <td>6.047973</td>\n",
       "      <td>15.911109</td>\n",
       "      <td>115.593600</td>\n",
       "      <td>Global</td>\n",
       "    </tr>\n",
       "    <tr>\n",
       "      <th>1</th>\n",
       "      <td>agriculture</td>\n",
       "      <td>kg</td>\n",
       "      <td>Leather Vegetable tanning - hides from Europe</td>\n",
       "      <td>3.038588</td>\n",
       "      <td>17.967245</td>\n",
       "      <td>94.793388</td>\n",
       "      <td>Global</td>\n",
       "    </tr>\n",
       "    <tr>\n",
       "      <th>2</th>\n",
       "      <td>agriculture</td>\n",
       "      <td>kg</td>\n",
       "      <td>Wool (from Australia transported to Rotterdam)</td>\n",
       "      <td>12.144220</td>\n",
       "      <td>78.080353</td>\n",
       "      <td>61.672334</td>\n",
       "      <td>Global</td>\n",
       "    </tr>\n",
       "    <tr>\n",
       "      <th>3</th>\n",
       "      <td>agriculture</td>\n",
       "      <td>kg</td>\n",
       "      <td>Wool at farm Australia</td>\n",
       "      <td>12.056206</td>\n",
       "      <td>77.760547</td>\n",
       "      <td>57.456901</td>\n",
       "      <td>Global</td>\n",
       "    </tr>\n",
       "    <tr>\n",
       "      <th>4</th>\n",
       "      <td>agriculture</td>\n",
       "      <td>kg</td>\n",
       "      <td>wool, greasy, at farm Australia</td>\n",
       "      <td>6.028103</td>\n",
       "      <td>38.880273</td>\n",
       "      <td>28.728451</td>\n",
       "      <td>Global</td>\n",
       "    </tr>\n",
       "  </tbody>\n",
       "</table>\n",
       "</div>"
      ],
      "text/plain": [
       "      Industry Unit                                         Process  \\\n",
       "0  agriculture  kg     Leather Chrome tanning - hides from Argentia   \n",
       "1  agriculture  kg    Leather Vegetable tanning - hides from Europe   \n",
       "2  agriculture  kg   Wool (from Australia transported to Rotterdam)   \n",
       "3  agriculture  kg                           Wool at farm Australia   \n",
       "4  agriculture  kg                  wool, greasy, at farm Australia   \n",
       "\n",
       "    Total MJ  Carbon MJ      CED MJ  Region  \n",
       "0   6.047973  15.911109  115.593600  Global  \n",
       "1   3.038588  17.967245   94.793388  Global  \n",
       "2  12.144220  78.080353   61.672334  Global  \n",
       "3  12.056206  77.760547   57.456901  Global  \n",
       "4   6.028103  38.880273   28.728451  Global  "
      ]
     },
     "execution_count": 12,
     "metadata": {},
     "output_type": "execute_result"
    }
   ],
   "source": [
    "df.head()\n"
   ]
  },
  {
   "cell_type": "code",
   "execution_count": 59,
   "metadata": {},
   "outputs": [],
   "source": [
    "# save the df into the same file name\n",
    "df.to_excel('/Users/rajatsharma/IBM-CarbonSense-powered-by-Watsonx/Data_processed/industry/agriculture.xlsx', index=False)"
   ]
  },
  {
   "cell_type": "code",
   "execution_count": 13,
   "metadata": {},
   "outputs": [
    {
     "name": "stdout",
     "output_type": "stream",
     "text": [
      "✅ Processed: electricity USA.xlsx\n",
      "✅ Processed: electricity Canada.xlsx\n",
      "✅ Processed: electricity general industry.xlsx\n",
      "✅ Processed: electricity China.xlsx\n",
      "✅ Processed: electricity EU .xlsx\n",
      "✅ Processed: electricity Rest of the World.xlsx\n",
      "✅ Processed: electricity India.xlsx\n"
     ]
    }
   ],
   "source": [
    "import pandas as pd\n",
    "import os\n",
    "\n",
    "def filter_industry_files(folder_path):\n",
    "    # Columns to keep\n",
    "    columns_to_keep = ['industry', 'unit','process','total','carbon','ced', 'region']\n",
    "\n",
    "    # Loop through each file\n",
    "    for filename in os.listdir(folder_path):\n",
    "        if filename.endswith('.xlsx') and not filename.startswith('~$') and not filename.startswith('.'):\n",
    "            file_path = os.path.join(folder_path, filename)\n",
    "\n",
    "            try:\n",
    "                # Read the Excel file with engine specified\n",
    "                df = pd.read_excel(file_path, engine='openpyxl')\n",
    "\n",
    "                # Filter columns\n",
    "                df_filtered = df[[col for col in df.columns if col in columns_to_keep]]\n",
    "\n",
    "                # Save filtered DataFrame\n",
    "                df_filtered.to_excel(file_path, index=False, engine='openpyxl')\n",
    "                print(f\"✅ Processed: {filename}\")\n",
    "\n",
    "            except Exception as e:\n",
    "                print(f\"❌ Failed to process {filename}: {e}\")\n",
    "\n",
    "# Example usage\n",
    "filter_industry_files('/Users/rajatsharma/IBM-CarbonSense-powered-by-Watsonx/Data_processed/electricity/')\n"
   ]
  },
  {
   "cell_type": "code",
   "execution_count": 18,
   "metadata": {},
   "outputs": [],
   "source": [
    "import pandas as pd\n",
    "import os\n",
    "\n",
    "# for all the files in the directory, rename the column \n",
    "def rename_columns_in_files(folder_path):\n",
    "    # Define the mapping of old column names to new column names\n",
    "    column_mapping = {\n",
    "        'Carbon MJ': 'Carbon kg-CO2'\n",
    "    }\n",
    "\n",
    "    # Loop through each file\n",
    "    for filename in os.listdir(folder_path):\n",
    "        if filename.endswith('.xlsx') and not filename.startswith('~$') and not filename.startswith('.'):\n",
    "            file_path = os.path.join(folder_path, filename)\n",
    "\n",
    "            try:\n",
    "                # Read the Excel file with engine specified\n",
    "                df = pd.read_excel(file_path, engine='openpyxl')\n",
    "\n",
    "                # Rename columns\n",
    "                df.rename(columns=column_mapping, inplace=True)\n",
    "\n",
    "                # Save the modified DataFrame back to the same file\n",
    "                df.to_excel(file_path, index=False, engine='openpyxl')\n",
    "                print(f\"✅ Renamed columns in: {filename}\")\n",
    "\n",
    "            except Exception as e:\n",
    "                print(f\"❌ Failed to rename columns in {filename}: {e}\")"
   ]
  },
  {
   "cell_type": "code",
   "execution_count": 21,
   "metadata": {},
   "outputs": [
    {
     "name": "stdout",
     "output_type": "stream",
     "text": [
      "✅ Renamed columns in: textile.xlsx\n",
      "✅ Renamed columns in: fibres.xlsx\n",
      "✅ Renamed columns in: fuels.xlsx\n",
      "✅ Renamed columns in: heat.xlsx\n",
      "✅ Renamed columns in: scope 1 & downsrtream.xlsx\n",
      "✅ Renamed columns in: Food_USA.xlsx\n",
      "✅ Renamed columns in: processing metals.xlsx\n",
      "✅ Renamed columns in: Food_Global.xlsx\n",
      "✅ Renamed columns in: wood.xlsx\n",
      "✅ Renamed columns in: electronics.xlsx\n",
      "✅ Renamed columns in: transport.xlsx\n",
      "✅ Renamed columns in: food.xlsx\n",
      "✅ Renamed columns in: water.xlsx\n",
      "✅ Renamed columns in: plastics.xlsx\n",
      "✅ Renamed columns in: end-of-life.xlsx\n",
      "✅ Renamed columns in: glass.xlsx\n",
      "✅ Renamed columns in: metals, ferro.xlsx\n",
      "✅ Renamed columns in: ceramics.xlsx\n",
      "✅ Renamed columns in: metals, non-ferro.xlsx\n",
      "✅ Renamed columns in: agriculture.xlsx\n",
      "✅ Renamed columns in: paper & packaging.xlsx\n",
      "✅ Renamed columns in: building materials.xlsx\n",
      "✅ Renamed columns in: chemicals.xlsx\n",
      "✅ Renamed columns in: chem proxi.xlsx\n",
      "✅ Renamed columns in: laminates.xlsx\n"
     ]
    }
   ],
   "source": [
    "rename_columns_in_files('/Users/rajatsharma/IBM-CarbonSense-powered-by-Watsonx/Data_processed/industry/')"
   ]
  },
  {
   "cell_type": "code",
   "execution_count": null,
   "metadata": {},
   "outputs": [],
   "source": []
  }
 ],
 "metadata": {
  "kernelspec": {
   "display_name": "captionKraftNov25",
   "language": "python",
   "name": "python3"
  },
  "language_info": {
   "codemirror_mode": {
    "name": "ipython",
    "version": 3
   },
   "file_extension": ".py",
   "mimetype": "text/x-python",
   "name": "python",
   "nbconvert_exporter": "python",
   "pygments_lexer": "ipython3",
   "version": "3.9.7"
  },
  "orig_nbformat": 4
 },
 "nbformat": 4,
 "nbformat_minor": 2
}
