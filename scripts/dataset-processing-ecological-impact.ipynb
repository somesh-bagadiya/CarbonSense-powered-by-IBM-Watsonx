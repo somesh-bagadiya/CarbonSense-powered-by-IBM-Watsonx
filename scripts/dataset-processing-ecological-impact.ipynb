{
 "cells": [
  {
   "cell_type": "code",
   "execution_count": 2,
   "metadata": {},
   "outputs": [],
   "source": [
    "import pandas as pd"
   ]
  },
  {
   "cell_type": "code",
   "execution_count": 3,
   "metadata": {},
   "outputs": [
    {
     "name": "stdout",
     "output_type": "stream",
     "text": [
      "\u001b[33mWARNING: Ignoring invalid distribution -ensorflow (/Users/rajatsharma/anaconda3/envs/captionKraftNov25/lib/python3.9/site-packages)\u001b[0m\u001b[33m\n",
      "\u001b[0mRequirement already satisfied: openpyxl in /Users/rajatsharma/anaconda3/envs/captionKraftNov25/lib/python3.9/site-packages (3.1.5)\n",
      "Requirement already satisfied: et-xmlfile in /Users/rajatsharma/anaconda3/envs/captionKraftNov25/lib/python3.9/site-packages (from openpyxl) (2.0.0)\n",
      "\u001b[33mWARNING: Ignoring invalid distribution -ensorflow (/Users/rajatsharma/anaconda3/envs/captionKraftNov25/lib/python3.9/site-packages)\u001b[0m\u001b[33m\n",
      "\u001b[0m"
     ]
    }
   ],
   "source": [
    "!pip install openpyxl"
   ]
  },
  {
   "cell_type": "code",
   "execution_count": 4,
   "metadata": {},
   "outputs": [
    {
     "name": "stderr",
     "output_type": "stream",
     "text": [
      "/Users/rajatsharma/anaconda3/envs/captionKraftNov25/lib/python3.9/site-packages/openpyxl/worksheet/_reader.py:329: UserWarning: Unknown extension is not supported and will be removed\n",
      "  warn(msg)\n",
      "/Users/rajatsharma/anaconda3/envs/captionKraftNov25/lib/python3.9/site-packages/openpyxl/worksheet/_reader.py:329: UserWarning: Conditional Formatting extension is not supported and will be removed\n",
      "  warn(msg)\n"
     ]
    }
   ],
   "source": [
    "# Load all sheets into a dictionary of DataFrames\n",
    "file_path = \"/Users/rajatsharma/IBM-CarbonSense-powered-by-Watsonx/Data/dataset_carbon.xlsx\"\n",
    "dfs = pd.read_excel(file_path, sheet_name=None)\n",
    "\n",
    "\n",
    "ds1 = dfs[\"Idemat2025\"]\n",
    "ds2 = dfs[\"Idemat2025 midpoints\"]\n",
    "ds3 = dfs[\"process energy estimates \"]\n",
    "ds4 = dfs[\"EVR gate to gate\"]\n",
    "ds5 = dfs[\"EVR cradle to gate\"]"
   ]
  },
  {
   "cell_type": "code",
   "execution_count": 5,
   "metadata": {},
   "outputs": [],
   "source": [
    "ds4 = ds4.dropna(axis=1, how='all')"
   ]
  },
  {
   "cell_type": "code",
   "execution_count": 6,
   "metadata": {},
   "outputs": [],
   "source": [
    "ds4 = ds4.rename(columns={\".heading\": \"industry\"})"
   ]
  },
  {
   "cell_type": "code",
   "execution_count": 8,
   "metadata": {},
   "outputs": [
    {
     "name": "stdout",
     "output_type": "stream",
     "text": [
      "Index(['\"gate to gate\" data: this table provides the EVR of the production phase only  (excluding the materials which are required to manufacture the products)',\n",
      "       'Unnamed: 1', 'Unnamed: 2'],\n",
      "      dtype='object')\n"
     ]
    }
   ],
   "source": [
    "# columns in ds3\n",
    "print(ds4.columns)"
   ]
  },
  {
   "cell_type": "code",
   "execution_count": null,
   "metadata": {},
   "outputs": [],
   "source": []
  }
 ],
 "metadata": {
  "kernelspec": {
   "display_name": "captionKraftNov25",
   "language": "python",
   "name": "python3"
  },
  "language_info": {
   "codemirror_mode": {
    "name": "ipython",
    "version": 3
   },
   "file_extension": ".py",
   "mimetype": "text/x-python",
   "name": "python",
   "nbconvert_exporter": "python",
   "pygments_lexer": "ipython3",
   "version": "3.9.7"
  },
  "orig_nbformat": 4
 },
 "nbformat": 4,
 "nbformat_minor": 2
}
